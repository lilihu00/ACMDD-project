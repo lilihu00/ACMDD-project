{
 "cells": [
  {
   "cell_type": "markdown",
   "metadata": {},
   "source": [
    "## This lab is in part adapted from TeachOpenCADD\n",
    "(https://noteable-beta.edina.ac.uk/user/wmk69tm57bfauozjthxzn1/tree/teachopencadd.git/teachopencadd/talktorials)"
   ]
  },
  {
   "cell_type": "code",
   "execution_count": 1,
   "metadata": {},
   "outputs": [],
   "source": [
    "# We will load some libraries again first\n",
    "\n",
    "from pathlib import Path\n",
    "from warnings import filterwarnings\n",
    "import time\n",
    "\n",
    "import pandas as pd\n",
    "import numpy as np\n",
    "from sklearn import svm, metrics, clone\n",
    "from sklearn.ensemble import RandomForestClassifier\n",
    "from sklearn.ensemble import RandomForestRegressor\n",
    "from sklearn.neural_network import MLPClassifier\n",
    "from sklearn.model_selection import KFold, train_test_split\n",
    "from sklearn.metrics import auc, accuracy_score, recall_score\n",
    "from sklearn.metrics import roc_curve, roc_auc_score\n",
    "import matplotlib.pyplot as plt\n",
    "from rdkit import Chem\n",
    "from rdkit.Chem import MACCSkeys\n",
    "from rdkit.Chem.AllChem import GetMorganFingerprintAsBitVect\n",
    "\n",
    "#from teachopencadd.utils import seed_everything\n",
    "\n",
    "# Silence some expected warnings\n",
    "filterwarnings(\"ignore\")\n",
    "# Fix seed for reproducible results\n",
    "SEED = 22\n",
    "#seed_everything(SEED)"
   ]
  },
  {
   "cell_type": "markdown",
   "metadata": {},
   "source": [
    "In this section, we will look into cheminformatics. We ended the last session looking at the interaction of the ligand in the binding site. To refresh our minds, \n",
    "\n",
    "1. lets have another look at the protein-ligand interactions with PLIP:\n",
    "\n",
    " https://plip-tool.biotec.tu-dresden.de/plip-web/plip/index\n",
    " \n",
    " What also is informative is to do a short literature study."
   ]
  },
  {
   "cell_type": "markdown",
   "metadata": {},
   "source": [
    "2. Find the Structure – Activity – Relationship (SAR) for your ligand. Use medicinal chemistry journals, like (but not limited to) J. Med. Chem., Bioorg Med Chem (Lett), ChemMedChem"
   ]
  },
  {
   "cell_type": "markdown",
   "metadata": {},
   "source": [
    "3. First, let's create a new working directory in your jupyter environment."
   ]
  },
  {
   "cell_type": "code",
   "execution_count": 2,
   "metadata": {},
   "outputs": [
    {
     "name": "stdout",
     "output_type": "stream",
     "text": [
      "Directory already exists\n"
     ]
    }
   ],
   "source": [
    "import os\n",
    "from pathlib import Path\n",
    "HOMEDIR = str(Path.home())\n",
    "os.chdir(HOMEDIR)\n",
    "# We need to check whether the directory is there\n",
    "try:\n",
    "    os.mkdir('Cheminformatics')\n",
    "except:\n",
    "    print(\"Directory already exists\")\n",
    "os.chdir('Cheminformatics')"
   ]
  },
  {
   "cell_type": "markdown",
   "metadata": {},
   "source": [
    "For this next part, we need to have the SMILES (https://en.wikipedia.org/wiki/Simplified_molecular-input_line-entry_system) representation of the molecule. You can retrieve this by going to the pdb, and fetch the InChI key for the ligand in your structure (use the RCSB accession code).\n",
    "\n",
    "InChI key for DU1: KAJVJPLKXGLLDA-UHFFFAOYSA-N\n",
    "4. The image below shows the InChI key for zma241385 in blue:\n",
    "![image info](img/LAB01_FIG00.png)"
   ]
  },
  {
   "cell_type": "markdown",
   "metadata": {},
   "source": [
    "5. Using the InChI key, you can retrieve the SMILES from PubChem ((http://pubchem.ncbi.nlm.nih.gov/). Use the search bar where you paste the InChI key in, then run the search, you should retrieve the compound. Click on the entry, and you can find them under 2.1.4 Canonical Smiles. Write down the SMILES that you retrieved from PUBCHEM\n",
    "\n",
    "Canonical SMILES of DU1: CCCN1C(=O)C2=C(N=C(N2)C3CCCCC3)N(C1=O)CCCNC(=O)C4=CC=C(C=C4)S(=O)(=O)F\n",
    "\n",
    "6.\tFind similar compounds by going to the Similarity tab, how many compounds were retrieved? Under settings, you can adjust the tanimoto threshold, change it to 80%, how much are retrieved now?"
   ]
  },
  {
   "cell_type": "markdown",
   "metadata": {},
   "source": [
    "7.\tGo to https://www.ebi.ac.uk/chembl/, again use the InChI key from the previous step, click the entry. Write down the CHEMBLID. Next, do a Structure Search (button under the compound drawing).\n",
    "\n",
    "CHEMBLID: CHEMBL144360\n",
    "\n",
    "8.\tFetch 95% similar compounds, how much compounds were retrieved? Do the same but with 90%. Do you have more or less compounds than in step 6? Do you know why?\n",
    "\n",
    "With a 95% similarity search, 2 compounds were retrieved. While a 90% similarity search retrieved 3 compounds.\n",
    "\n"
   ]
  },
  {
   "cell_type": "markdown",
   "metadata": {},
   "source": [
    "9.\tUse the Zinc site to search for possible similar ligands at http://zinc15.docking.org/substances/home/ .Again use the copied smiles string do a 70 % similar search (Tanimoto 70, written as similarity -30). Write down the number of hits and copy 1 representative molecule from each search. Discuss the results, how high is the impact of the similarity threshold?"
   ]
  },
  {
   "cell_type": "markdown",
   "metadata": {},
   "source": [
    "Obtaining and cleaning data.\n",
    "\n",
    "Let's now start with some data. You should have a CHEMBLID in your list, here we use CHEMBL226 (Adenosine A1R) as an example.\n",
    "\n",
    "10. We're going to download a dataset downloaded from ChEMBL, and read it into pandas, you can download the files from ChEMBL directly and upload them to the notebook environment (https://www.ebi.ac.uk/chembl/). Be sure to upload the extracted file (not the .zip file) and to give it a clear name so you can write it down in the below code block. \n",
    "\n",
    "\n",
    "Ask a TA if anything is unclear!"
   ]
  },
  {
   "cell_type": "code",
   "execution_count": 2,
   "metadata": {},
   "outputs": [
    {
     "name": "stdout",
     "output_type": "stream",
     "text": [
      "There are a total of 16163 datapoints in this set\n"
     ]
    },
    {
     "data": {
      "text/html": [
       "<div>\n",
       "<style scoped>\n",
       "    .dataframe tbody tr th:only-of-type {\n",
       "        vertical-align: middle;\n",
       "    }\n",
       "\n",
       "    .dataframe tbody tr th {\n",
       "        vertical-align: top;\n",
       "    }\n",
       "\n",
       "    .dataframe thead th {\n",
       "        text-align: right;\n",
       "    }\n",
       "</style>\n",
       "<table border=\"1\" class=\"dataframe\">\n",
       "  <thead>\n",
       "    <tr style=\"text-align: right;\">\n",
       "      <th></th>\n",
       "      <th>Molecule ChEMBL ID</th>\n",
       "      <th>Molecule Name</th>\n",
       "      <th>Molecule Max Phase</th>\n",
       "      <th>Molecular Weight</th>\n",
       "      <th>#RO5 Violations</th>\n",
       "      <th>AlogP</th>\n",
       "      <th>Compound Key</th>\n",
       "      <th>Smiles</th>\n",
       "      <th>Standard Type</th>\n",
       "      <th>Standard Relation</th>\n",
       "      <th>...</th>\n",
       "      <th>Target Organism</th>\n",
       "      <th>Target Type</th>\n",
       "      <th>Document ChEMBL ID</th>\n",
       "      <th>Source ID</th>\n",
       "      <th>Source Description</th>\n",
       "      <th>Document Journal</th>\n",
       "      <th>Document Year</th>\n",
       "      <th>Cell ChEMBL ID</th>\n",
       "      <th>Properties</th>\n",
       "      <th>Action Type</th>\n",
       "    </tr>\n",
       "  </thead>\n",
       "  <tbody>\n",
       "    <tr>\n",
       "      <th>0</th>\n",
       "      <td>CHEMBL249492</td>\n",
       "      <td>NaN</td>\n",
       "      <td>None</td>\n",
       "      <td>406.49</td>\n",
       "      <td>0</td>\n",
       "      <td>0.16</td>\n",
       "      <td>2d</td>\n",
       "      <td>CC1(C)CC(Nc2ncnc3c2ncn3[C@@H]2O[C@H](CO)[C@@H]...</td>\n",
       "      <td>Ki</td>\n",
       "      <td>'='</td>\n",
       "      <td>...</td>\n",
       "      <td>Homo sapiens</td>\n",
       "      <td>SINGLE PROTEIN</td>\n",
       "      <td>CHEMBL1139782</td>\n",
       "      <td>1</td>\n",
       "      <td>Scientific Literature</td>\n",
       "      <td>Bioorg Med Chem Lett</td>\n",
       "      <td>2007.0</td>\n",
       "      <td>None</td>\n",
       "      <td>NaN</td>\n",
       "      <td>NaN</td>\n",
       "    </tr>\n",
       "    <tr>\n",
       "      <th>1</th>\n",
       "      <td>CHEMBL57997</td>\n",
       "      <td>T-62</td>\n",
       "      <td>2.0</td>\n",
       "      <td>291.80</td>\n",
       "      <td>0</td>\n",
       "      <td>4.09</td>\n",
       "      <td>1, T-62</td>\n",
       "      <td>Nc1sc2c(c1C(=O)c1ccc(Cl)cc1)CCCC2</td>\n",
       "      <td>Activity</td>\n",
       "      <td>'='</td>\n",
       "      <td>...</td>\n",
       "      <td>Homo sapiens</td>\n",
       "      <td>SINGLE PROTEIN</td>\n",
       "      <td>CHEMBL1139647</td>\n",
       "      <td>1</td>\n",
       "      <td>Scientific Literature</td>\n",
       "      <td>Bioorg Med Chem Lett</td>\n",
       "      <td>2006.0</td>\n",
       "      <td>None</td>\n",
       "      <td>NaN</td>\n",
       "      <td>NaN</td>\n",
       "    </tr>\n",
       "    <tr>\n",
       "      <th>2</th>\n",
       "      <td>CHEMBL602843</td>\n",
       "      <td>NaN</td>\n",
       "      <td>None</td>\n",
       "      <td>667.17</td>\n",
       "      <td>2</td>\n",
       "      <td>3.05</td>\n",
       "      <td>12</td>\n",
       "      <td>CNC(=O)[C@@]12C[C@@H]1[C@@H](n1cnc3c(NCc4cccc(...</td>\n",
       "      <td>Inhibition</td>\n",
       "      <td>'='</td>\n",
       "      <td>...</td>\n",
       "      <td>Homo sapiens</td>\n",
       "      <td>SINGLE PROTEIN</td>\n",
       "      <td>CHEMBL1159060</td>\n",
       "      <td>1</td>\n",
       "      <td>Scientific Literature</td>\n",
       "      <td>Bioorg Med Chem</td>\n",
       "      <td>2010.0</td>\n",
       "      <td>CHEMBL3308072</td>\n",
       "      <td>NaN</td>\n",
       "      <td>NaN</td>\n",
       "    </tr>\n",
       "    <tr>\n",
       "      <th>3</th>\n",
       "      <td>CHEMBL589513</td>\n",
       "      <td>NaN</td>\n",
       "      <td>None</td>\n",
       "      <td>906.51</td>\n",
       "      <td>3</td>\n",
       "      <td>1.89</td>\n",
       "      <td>3</td>\n",
       "      <td>CNC(=O)[C@@]12C[C@@H]1[C@@H](n1cnc3c(NCc4cccc(...</td>\n",
       "      <td>Inhibition</td>\n",
       "      <td>'='</td>\n",
       "      <td>...</td>\n",
       "      <td>Homo sapiens</td>\n",
       "      <td>SINGLE PROTEIN</td>\n",
       "      <td>CHEMBL1159060</td>\n",
       "      <td>1</td>\n",
       "      <td>Scientific Literature</td>\n",
       "      <td>Bioorg Med Chem</td>\n",
       "      <td>2010.0</td>\n",
       "      <td>CHEMBL3308072</td>\n",
       "      <td>NaN</td>\n",
       "      <td>NaN</td>\n",
       "    </tr>\n",
       "    <tr>\n",
       "      <th>4</th>\n",
       "      <td>CHEMBL256331</td>\n",
       "      <td>NaN</td>\n",
       "      <td>None</td>\n",
       "      <td>478.53</td>\n",
       "      <td>0</td>\n",
       "      <td>4.07</td>\n",
       "      <td>19</td>\n",
       "      <td>Cc1cc(C)n(-c2cc(NC(=O)COc3cc(F)cc(CN(C)C)c3)nc...</td>\n",
       "      <td>Ki</td>\n",
       "      <td>'='</td>\n",
       "      <td>...</td>\n",
       "      <td>Homo sapiens</td>\n",
       "      <td>SINGLE PROTEIN</td>\n",
       "      <td>CHEMBL1141544</td>\n",
       "      <td>1</td>\n",
       "      <td>Scientific Literature</td>\n",
       "      <td>Bioorg Med Chem Lett</td>\n",
       "      <td>2008.0</td>\n",
       "      <td>CHEMBL3307715</td>\n",
       "      <td>NaN</td>\n",
       "      <td>NaN</td>\n",
       "    </tr>\n",
       "  </tbody>\n",
       "</table>\n",
       "<p>5 rows × 46 columns</p>\n",
       "</div>"
      ],
      "text/plain": [
       "  Molecule ChEMBL ID Molecule Name Molecule Max Phase Molecular Weight  \\\n",
       "0       CHEMBL249492           NaN               None           406.49   \n",
       "1        CHEMBL57997          T-62                2.0           291.80   \n",
       "2       CHEMBL602843           NaN               None           667.17   \n",
       "3       CHEMBL589513           NaN               None           906.51   \n",
       "4       CHEMBL256331           NaN               None           478.53   \n",
       "\n",
       "  #RO5 Violations AlogP Compound Key  \\\n",
       "0               0  0.16           2d   \n",
       "1               0  4.09      1, T-62   \n",
       "2               2  3.05           12   \n",
       "3               3  1.89            3   \n",
       "4               0  4.07           19   \n",
       "\n",
       "                                              Smiles Standard Type  \\\n",
       "0  CC1(C)CC(Nc2ncnc3c2ncn3[C@@H]2O[C@H](CO)[C@@H]...            Ki   \n",
       "1                  Nc1sc2c(c1C(=O)c1ccc(Cl)cc1)CCCC2      Activity   \n",
       "2  CNC(=O)[C@@]12C[C@@H]1[C@@H](n1cnc3c(NCc4cccc(...    Inhibition   \n",
       "3  CNC(=O)[C@@]12C[C@@H]1[C@@H](n1cnc3c(NCc4cccc(...    Inhibition   \n",
       "4  Cc1cc(C)n(-c2cc(NC(=O)COc3cc(F)cc(CN(C)C)c3)nc...            Ki   \n",
       "\n",
       "  Standard Relation  ...  Target Organism     Target Type  Document ChEMBL ID  \\\n",
       "0               '='  ...     Homo sapiens  SINGLE PROTEIN       CHEMBL1139782   \n",
       "1               '='  ...     Homo sapiens  SINGLE PROTEIN       CHEMBL1139647   \n",
       "2               '='  ...     Homo sapiens  SINGLE PROTEIN       CHEMBL1159060   \n",
       "3               '='  ...     Homo sapiens  SINGLE PROTEIN       CHEMBL1159060   \n",
       "4               '='  ...     Homo sapiens  SINGLE PROTEIN       CHEMBL1141544   \n",
       "\n",
       "  Source ID     Source Description      Document Journal  Document Year  \\\n",
       "0         1  Scientific Literature  Bioorg Med Chem Lett         2007.0   \n",
       "1         1  Scientific Literature  Bioorg Med Chem Lett         2006.0   \n",
       "2         1  Scientific Literature       Bioorg Med Chem         2010.0   \n",
       "3         1  Scientific Literature       Bioorg Med Chem         2010.0   \n",
       "4         1  Scientific Literature  Bioorg Med Chem Lett         2008.0   \n",
       "\n",
       "  Cell ChEMBL ID Properties Action Type  \n",
       "0           None        NaN         NaN  \n",
       "1           None        NaN         NaN  \n",
       "2  CHEMBL3308072        NaN         NaN  \n",
       "3  CHEMBL3308072        NaN         NaN  \n",
       "4  CHEMBL3307715        NaN         NaN  \n",
       "\n",
       "[5 rows x 46 columns]"
      ]
     },
     "execution_count": 2,
     "metadata": {},
     "output_type": "execute_result"
    }
   ],
   "source": [
    "CHEMBLID = 'CHEMBL226'\n",
    "FILENAME = 'CHEMBL226.tsv'\n",
    "\n",
    "data = pd.read_csv(FILENAME, sep='\\t')\n",
    "\n",
    "print(\"There are a total of {} datapoints in this set\".format(len(data)))\n",
    "data.head()"
   ]
  },
  {
   "cell_type": "markdown",
   "metadata": {},
   "source": [
    "You will note that we have a lot of data, and we certainly don't need it all, thus we're going to remove quite some columns.\n",
    "\n",
    "11. Actually, for now we only need the compound ID, pCHEMBL_value, Assay Type, binding affinity and the smiles:"
   ]
  },
  {
   "cell_type": "code",
   "execution_count": 3,
   "metadata": {},
   "outputs": [
    {
     "data": {
      "text/html": [
       "<div>\n",
       "<style scoped>\n",
       "    .dataframe tbody tr th:only-of-type {\n",
       "        vertical-align: middle;\n",
       "    }\n",
       "\n",
       "    .dataframe tbody tr th {\n",
       "        vertical-align: top;\n",
       "    }\n",
       "\n",
       "    .dataframe thead th {\n",
       "        text-align: right;\n",
       "    }\n",
       "</style>\n",
       "<table border=\"1\" class=\"dataframe\">\n",
       "  <thead>\n",
       "    <tr style=\"text-align: right;\">\n",
       "      <th></th>\n",
       "      <th>Molecule ChEMBL ID</th>\n",
       "      <th>pChEMBL_value</th>\n",
       "      <th>Smiles</th>\n",
       "      <th>Assay_Type</th>\n",
       "      <th>Standard Relation</th>\n",
       "      <th>Standard Value</th>\n",
       "    </tr>\n",
       "  </thead>\n",
       "  <tbody>\n",
       "    <tr>\n",
       "      <th>0</th>\n",
       "      <td>CHEMBL249492</td>\n",
       "      <td>5.80</td>\n",
       "      <td>CC1(C)CC(Nc2ncnc3c2ncn3[C@@H]2O[C@H](CO)[C@@H]...</td>\n",
       "      <td>B</td>\n",
       "      <td>'='</td>\n",
       "      <td>1580.0</td>\n",
       "    </tr>\n",
       "    <tr>\n",
       "      <th>1</th>\n",
       "      <td>CHEMBL57997</td>\n",
       "      <td>NaN</td>\n",
       "      <td>Nc1sc2c(c1C(=O)c1ccc(Cl)cc1)CCCC2</td>\n",
       "      <td>F</td>\n",
       "      <td>'='</td>\n",
       "      <td>22.0</td>\n",
       "    </tr>\n",
       "    <tr>\n",
       "      <th>2</th>\n",
       "      <td>CHEMBL602843</td>\n",
       "      <td>NaN</td>\n",
       "      <td>CNC(=O)[C@@]12C[C@@H]1[C@@H](n1cnc3c(NCc4cccc(...</td>\n",
       "      <td>B</td>\n",
       "      <td>'='</td>\n",
       "      <td>3.0</td>\n",
       "    </tr>\n",
       "    <tr>\n",
       "      <th>3</th>\n",
       "      <td>CHEMBL589513</td>\n",
       "      <td>NaN</td>\n",
       "      <td>CNC(=O)[C@@]12C[C@@H]1[C@@H](n1cnc3c(NCc4cccc(...</td>\n",
       "      <td>B</td>\n",
       "      <td>'='</td>\n",
       "      <td>12.0</td>\n",
       "    </tr>\n",
       "    <tr>\n",
       "      <th>4</th>\n",
       "      <td>CHEMBL256331</td>\n",
       "      <td>6.85</td>\n",
       "      <td>Cc1cc(C)n(-c2cc(NC(=O)COc3cc(F)cc(CN(C)C)c3)nc...</td>\n",
       "      <td>B</td>\n",
       "      <td>'='</td>\n",
       "      <td>140.0</td>\n",
       "    </tr>\n",
       "  </tbody>\n",
       "</table>\n",
       "</div>"
      ],
      "text/plain": [
       "  Molecule ChEMBL ID  pChEMBL_value  \\\n",
       "0       CHEMBL249492           5.80   \n",
       "1        CHEMBL57997            NaN   \n",
       "2       CHEMBL602843            NaN   \n",
       "3       CHEMBL589513            NaN   \n",
       "4       CHEMBL256331           6.85   \n",
       "\n",
       "                                              Smiles Assay_Type  \\\n",
       "0  CC1(C)CC(Nc2ncnc3c2ncn3[C@@H]2O[C@H](CO)[C@@H]...          B   \n",
       "1                  Nc1sc2c(c1C(=O)c1ccc(Cl)cc1)CCCC2          F   \n",
       "2  CNC(=O)[C@@]12C[C@@H]1[C@@H](n1cnc3c(NCc4cccc(...          B   \n",
       "3  CNC(=O)[C@@]12C[C@@H]1[C@@H](n1cnc3c(NCc4cccc(...          B   \n",
       "4  Cc1cc(C)n(-c2cc(NC(=O)COc3cc(F)cc(CN(C)C)c3)nc...          B   \n",
       "\n",
       "  Standard Relation  Standard Value  \n",
       "0               '='          1580.0  \n",
       "1               '='            22.0  \n",
       "2               '='             3.0  \n",
       "3               '='            12.0  \n",
       "4               '='           140.0  "
      ]
     },
     "execution_count": 3,
     "metadata": {},
     "output_type": "execute_result"
    }
   ],
   "source": [
    "pd_data = data[['Molecule ChEMBL ID','pChEMBL Value','Smiles','Assay Type', 'Standard Relation','Standard Value']]\n",
    "pd_data.rename(columns={'pChEMBL Value': 'pChEMBL_value', 'Assay Type':'Assay_Type'}, inplace=True)\n",
    "pd_data.head()"
   ]
  },
  {
   "cell_type": "markdown",
   "metadata": {},
   "source": [
    "Next, we will add an activity classifier, there is a lot of censored data in the set and these typically are compounds that only bind weakly! We still want to know about those non-binders though.\n",
    "\n",
    "Let's set our activity threshold at PChEMBL > 6.5 for the actives, if you want to know more details have a look at this paper: https://jcheminf.biomedcentral.com/articles/10.1186/s13321-017-0232-0\n",
    "\n",
    "12. Here we go!"
   ]
  },
  {
   "cell_type": "code",
   "execution_count": 4,
   "metadata": {
    "scrolled": false
   },
   "outputs": [
    {
     "name": "stdout",
     "output_type": "stream",
     "text": [
      "Number of active compounds: 3443\n",
      "Number of inactive compounds: 12720\n"
     ]
    }
   ],
   "source": [
    "import numpy as np\n",
    "# Add column for activity\n",
    "pd_data[\"active\"] = np.zeros(len(pd_data))\n",
    "\n",
    "# Mark every molecule as active with an pCHEMBL of >= 6.5, 0 otherwise\n",
    "pd_data.loc[pd_data[pd_data.pChEMBL_value >= 6.5].index, \"active\"] = 1.0\n",
    "\n",
    "# NBVAL_CHECK_OUTPUT\n",
    "print(\"Number of active compounds:\", int(pd_data.active.sum()))\n",
    "print(\"Number of inactive compounds:\", len(pd_data) - int(pd_data.active.sum()))"
   ]
  },
  {
   "cell_type": "markdown",
   "metadata": {},
   "source": [
    "Finally, we will drop functional assay readout, this is data that we don't want to consider in our model."
   ]
  },
  {
   "cell_type": "code",
   "execution_count": 5,
   "metadata": {},
   "outputs": [
    {
     "name": "stdout",
     "output_type": "stream",
     "text": [
      "We have a total of 13010 activity points left\n"
     ]
    }
   ],
   "source": [
    "pd_data.drop(pd_data[pd_data.Assay_Type != 'B'].index, inplace=True)\n",
    "\n",
    "print(\"We have a total of {} activity points left\".format(len(pd_data)))"
   ]
  },
  {
   "cell_type": "code",
   "execution_count": 6,
   "metadata": {},
   "outputs": [],
   "source": [
    "# Set path to this notebook\n",
    "HERE = Path(_dh[-1])\n",
    "DATA = HERE / \"data\""
   ]
  },
  {
   "cell_type": "markdown",
   "metadata": {},
   "source": [
    "#### Molecule encoding\n",
    "\n",
    "Now we define a function `smiles_to_fp` to generate fingerprints from SMILES.\n",
    "For now, we incorporated the choice between the following fingerprints:\n",
    "\n",
    "* maccs\n",
    "* morgan2 and morgan3"
   ]
  },
  {
   "cell_type": "code",
   "execution_count": 7,
   "metadata": {},
   "outputs": [],
   "source": [
    "def smiles_to_fp(smiles, method=\"maccs\", n_bits=2048):\n",
    "    \"\"\"\n",
    "    Encode a molecule from a SMILES string into a fingerprint.\n",
    "\n",
    "    Parameters\n",
    "    ----------\n",
    "    smiles : str\n",
    "        The SMILES string defining the molecule.\n",
    "\n",
    "    method : str\n",
    "        The type of fingerprint to use. Default is MACCS keys.\n",
    "\n",
    "    n_bits : int\n",
    "        The length of the fingerprint.\n",
    "\n",
    "    Returns\n",
    "    -------\n",
    "    array\n",
    "        The fingerprint array.\n",
    "\n",
    "    \"\"\"\n",
    "\n",
    "    # convert smiles to RDKit mol object\n",
    "    try:\n",
    "        mol = Chem.MolFromSmiles(smiles)\n",
    "        \n",
    "    except:\n",
    "        return('NaN')\n",
    "\n",
    "    if method == \"maccs\":\n",
    "        return np.array(MACCSkeys.GenMACCSKeys(mol))\n",
    "    if method == \"morgan2\":\n",
    "        return np.array(GetMorganFingerprintAsBitVect(mol, 2, nBits=n_bits))\n",
    "    if method == \"morgan3\":\n",
    "        return np.array(GetMorganFingerprintAsBitVect(mol, 3, nBits=n_bits))\n",
    "    else:\n",
    "        # NBVAL_CHECK_OUTPUT\n",
    "        print(f\"Warning: Wrong method specified: {method}. Default will be used instead.\")\n",
    "        return np.array(MACCSkeys.GenMACCSKeys(mol))"
   ]
  },
  {
   "cell_type": "code",
   "execution_count": 8,
   "metadata": {},
   "outputs": [],
   "source": [
    "compound_df = pd_data.copy()"
   ]
  },
  {
   "cell_type": "code",
   "execution_count": 9,
   "metadata": {},
   "outputs": [
    {
     "data": {
      "text/html": [
       "<div>\n",
       "<style scoped>\n",
       "    .dataframe tbody tr th:only-of-type {\n",
       "        vertical-align: middle;\n",
       "    }\n",
       "\n",
       "    .dataframe tbody tr th {\n",
       "        vertical-align: top;\n",
       "    }\n",
       "\n",
       "    .dataframe thead th {\n",
       "        text-align: right;\n",
       "    }\n",
       "</style>\n",
       "<table border=\"1\" class=\"dataframe\">\n",
       "  <thead>\n",
       "    <tr style=\"text-align: right;\">\n",
       "      <th></th>\n",
       "      <th>Molecule ChEMBL ID</th>\n",
       "      <th>pChEMBL_value</th>\n",
       "      <th>Smiles</th>\n",
       "      <th>Assay_Type</th>\n",
       "      <th>Standard Relation</th>\n",
       "      <th>Standard Value</th>\n",
       "      <th>active</th>\n",
       "      <th>fp</th>\n",
       "    </tr>\n",
       "  </thead>\n",
       "  <tbody>\n",
       "    <tr>\n",
       "      <th>0</th>\n",
       "      <td>CHEMBL249492</td>\n",
       "      <td>5.8</td>\n",
       "      <td>CC1(C)CC(Nc2ncnc3c2ncn3[C@@H]2O[C@H](CO)[C@@H]...</td>\n",
       "      <td>B</td>\n",
       "      <td>'='</td>\n",
       "      <td>1580.0</td>\n",
       "      <td>0.0</td>\n",
       "      <td>[0, 0, 0, 0, 0, 0, 0, 0, 0, 0, 0, 0, 0, 0, 0, ...</td>\n",
       "    </tr>\n",
       "    <tr>\n",
       "      <th>2</th>\n",
       "      <td>CHEMBL602843</td>\n",
       "      <td>NaN</td>\n",
       "      <td>CNC(=O)[C@@]12C[C@@H]1[C@@H](n1cnc3c(NCc4cccc(...</td>\n",
       "      <td>B</td>\n",
       "      <td>'='</td>\n",
       "      <td>3.0</td>\n",
       "      <td>0.0</td>\n",
       "      <td>[0, 0, 0, 0, 0, 0, 0, 0, 0, 0, 0, 0, 0, 0, 0, ...</td>\n",
       "    </tr>\n",
       "    <tr>\n",
       "      <th>3</th>\n",
       "      <td>CHEMBL589513</td>\n",
       "      <td>NaN</td>\n",
       "      <td>CNC(=O)[C@@]12C[C@@H]1[C@@H](n1cnc3c(NCc4cccc(...</td>\n",
       "      <td>B</td>\n",
       "      <td>'='</td>\n",
       "      <td>12.0</td>\n",
       "      <td>0.0</td>\n",
       "      <td>[0, 0, 0, 0, 0, 0, 0, 0, 0, 0, 0, 0, 0, 0, 0, ...</td>\n",
       "    </tr>\n",
       "  </tbody>\n",
       "</table>\n",
       "</div>"
      ],
      "text/plain": [
       "  Molecule ChEMBL ID  pChEMBL_value  \\\n",
       "0       CHEMBL249492            5.8   \n",
       "2       CHEMBL602843            NaN   \n",
       "3       CHEMBL589513            NaN   \n",
       "\n",
       "                                              Smiles Assay_Type  \\\n",
       "0  CC1(C)CC(Nc2ncnc3c2ncn3[C@@H]2O[C@H](CO)[C@@H]...          B   \n",
       "2  CNC(=O)[C@@]12C[C@@H]1[C@@H](n1cnc3c(NCc4cccc(...          B   \n",
       "3  CNC(=O)[C@@]12C[C@@H]1[C@@H](n1cnc3c(NCc4cccc(...          B   \n",
       "\n",
       "  Standard Relation  Standard Value  active  \\\n",
       "0               '='          1580.0     0.0   \n",
       "2               '='             3.0     0.0   \n",
       "3               '='            12.0     0.0   \n",
       "\n",
       "                                                  fp  \n",
       "0  [0, 0, 0, 0, 0, 0, 0, 0, 0, 0, 0, 0, 0, 0, 0, ...  \n",
       "2  [0, 0, 0, 0, 0, 0, 0, 0, 0, 0, 0, 0, 0, 0, 0, ...  \n",
       "3  [0, 0, 0, 0, 0, 0, 0, 0, 0, 0, 0, 0, 0, 0, 0, ...  "
      ]
     },
     "execution_count": 9,
     "metadata": {},
     "output_type": "execute_result"
    }
   ],
   "source": [
    "# Add column for fingerprint\n",
    "compound_df[\"fp\"] = compound_df[\"Smiles\"].apply(smiles_to_fp)\n",
    "compound_df.drop(compound_df[compound_df.fp == 'NaN'].index, inplace=True)\n",
    "compound_df.head(3)\n",
    "# NBVAL_CHECK_OUTPUT"
   ]
  },
  {
   "cell_type": "markdown",
   "metadata": {},
   "source": [
    "### Machine Learning (ML)\n",
    "\n",
    "In the following, we will try several ML approaches to classify our molecules. We will use:\n",
    "\n",
    "* Random Forest (RF)\n",
    "* Support Vector Machine (SVM) \n",
    "* Artificial Neural Network (ANN) \n",
    "\n",
    "Additionally, we will comment on the results.\n",
    "\n",
    "The goal is to test the ability of the model to predict data which it has never seen before in order to flag problems known as over fitting and to assess the generalization ability of the model.\n",
    "\n",
    "We start by defining a function `model_training_and_validation` which fits a model on a random train-test split of the data and returns measures such as accuracy, sensitivity, specificity and AUC evaluated on the test set. We also plot the ROC curves using `plot_roc_curves_for_models`.\n",
    "\n",
    "We then define a function named `crossvalidation` which executes a cross validation procedure and prints the statistics of the results over the folds."
   ]
  },
  {
   "cell_type": "markdown",
   "metadata": {},
   "source": [
    "#### Helper functions\n",
    "Helper function to plot customized ROC curves. Code inspired by [stackoverflow](https://stackoverflow.com/questions/42894871/how-to-plot-multiple-roc-curves-in-one-plot-with-legend-and-auc-scores-in-python)."
   ]
  },
  {
   "cell_type": "code",
   "execution_count": 10,
   "metadata": {},
   "outputs": [],
   "source": [
    "def plot_roc_curves_for_models(models, test_x, test_y, save_png=True):\n",
    "    \"\"\"\n",
    "    Helper function to plot customized roc curve.\n",
    "\n",
    "    Parameters\n",
    "    ----------\n",
    "    models: dict\n",
    "        Dictionary of pretrained machine learning models.\n",
    "    test_x: list\n",
    "        Molecular fingerprints for test set.\n",
    "    test_y: list\n",
    "        Associated activity labels for test set.\n",
    "    save_png: bool\n",
    "        Save image to disk (default = False)\n",
    "\n",
    "    Returns\n",
    "    -------\n",
    "    fig:\n",
    "        Figure.\n",
    "    \"\"\"\n",
    "\n",
    "    fig, ax = plt.subplots()\n",
    "\n",
    "    # Below for loop iterates through your models list\n",
    "    for model in models:\n",
    "        # Select the model\n",
    "        ml_model = model[\"model\"]\n",
    "        # Prediction probability on test set\n",
    "        test_prob = ml_model.predict_proba(test_x)[:, 1]\n",
    "        # Prediction class on test set\n",
    "        test_pred = ml_model.predict(test_x)\n",
    "        # Compute False postive rate and True positive rate\n",
    "        fpr, tpr, thresholds = metrics.roc_curve(test_y, test_prob)\n",
    "        # Calculate Area under the curve to display on the plot\n",
    "        auc = roc_auc_score(test_y, test_prob)\n",
    "        # Plot the computed values\n",
    "        ax.plot(fpr, tpr, label=(f\"{model['label']} AUC area = {auc:.2f}\"))\n",
    "\n",
    "    # Custom settings for the plot\n",
    "    ax.plot([0, 1], [0, 1], \"r--\")\n",
    "    ax.set_xlabel(\"False Positive Rate\")\n",
    "    ax.set_ylabel(\"True Positive Rate\")\n",
    "    ax.set_title(\"Receiver Operating Characteristic\")\n",
    "    ax.legend(loc=\"lower right\")\n",
    "    # Save plot\n",
    "    if save_png:\n",
    "        fig.savefig(f\"results/roc_auc\", dpi=300, bbox_inches=\"tight\", transparent=True)\n",
    "    return fig"
   ]
  },
  {
   "cell_type": "markdown",
   "metadata": {},
   "source": [
    "Helper function to calculate model performance."
   ]
  },
  {
   "cell_type": "code",
   "execution_count": 11,
   "metadata": {},
   "outputs": [],
   "source": [
    "def model_performance(ml_model, test_x, test_y, verbose=True):\n",
    "    \"\"\"\n",
    "    Helper function to calculate model performance\n",
    "\n",
    "    Parameters\n",
    "    ----------\n",
    "    ml_model: sklearn model object\n",
    "        The machine learning model to train.\n",
    "    test_x: list\n",
    "        Molecular fingerprints for test set.\n",
    "    test_y: list\n",
    "        Associated activity labels for test set.\n",
    "    verbose: bool\n",
    "        Print performance measure (default = True)\n",
    "\n",
    "    Returns\n",
    "    -------\n",
    "    tuple:\n",
    "        Accuracy, sensitivity, specificity, auc on test set.\n",
    "    \"\"\"\n",
    "\n",
    "    # Prediction probability on test set\n",
    "    test_prob = ml_model.predict_proba(test_x)[:, 1]\n",
    "\n",
    "    # Prediction class on test set\n",
    "    test_pred = ml_model.predict(test_x)\n",
    "\n",
    "    # Performance of model on test set\n",
    "    accuracy = accuracy_score(test_y, test_pred)\n",
    "    sens = recall_score(test_y, test_pred)\n",
    "    spec = recall_score(test_y, test_pred, pos_label=0)\n",
    "    auc = roc_auc_score(test_y, test_prob)\n",
    "\n",
    "    if verbose:\n",
    "        # Print performance results\n",
    "        # NBVAL_CHECK_OUTPUT        print(f\"Accuracy: {accuracy:.2}\")\n",
    "        print(f\"Sensitivity: {sens:.2f}\")\n",
    "        print(f\"Specificity: {spec:.2f}\")\n",
    "        print(f\"AUC: {auc:.2f}\")\n",
    "\n",
    "    return accuracy, sens, spec, auc"
   ]
  },
  {
   "cell_type": "markdown",
   "metadata": {},
   "source": [
    " Helper function to fit a machine learning model on a random train-test split of the data and return the performance measures."
   ]
  },
  {
   "cell_type": "code",
   "execution_count": 12,
   "metadata": {},
   "outputs": [],
   "source": [
    "def model_training_and_validation(ml_model, name, splits, verbose=True):\n",
    "    \"\"\"\n",
    "    Fit a machine learning model on a random train-test split of the data\n",
    "    and return the performance measures.\n",
    "\n",
    "    Parameters\n",
    "    ----------\n",
    "    ml_model: sklearn model object\n",
    "        The machine learning model to train.\n",
    "    name: str\n",
    "        Name of machine learning algorithm: RF, SVM, ANN\n",
    "    splits: list\n",
    "        List of desciptor and label data: train_x, test_x, train_y, test_y.\n",
    "    verbose: bool\n",
    "        Print performance info (default = True)\n",
    "\n",
    "    Returns\n",
    "    -------\n",
    "    tuple:\n",
    "        Accuracy, sensitivity, specificity, auc on test set.\n",
    "\n",
    "    \"\"\"\n",
    "    train_x, test_x, train_y, test_y = splits\n",
    "\n",
    "    # Fit the model\n",
    "    ml_model.fit(train_x, train_y)\n",
    "\n",
    "    # Calculate model performance results\n",
    "    accuracy, sens, spec, auc = model_performance(ml_model, test_x, test_y, verbose)\n",
    "\n",
    "    return accuracy, sens, spec, auc"
   ]
  },
  {
   "cell_type": "markdown",
   "metadata": {},
   "source": [
    "**Preprocessing**: Split the data (will be reused for the other models)"
   ]
  },
  {
   "cell_type": "code",
   "execution_count": 13,
   "metadata": {},
   "outputs": [
    {
     "name": "stdout",
     "output_type": "stream",
     "text": [
      "Training data size: 10356\n",
      "Test data size: 2589\n"
     ]
    }
   ],
   "source": [
    "fingerprint_to_model = compound_df.fp.tolist()\n",
    "label_to_model = compound_df.active.tolist()\n",
    "\n",
    "# Split data randomly in train and test set\n",
    "# note that we use test/train_x for the respective fingerprint splits\n",
    "# and test/train_y for the respective label splits\n",
    "(\n",
    "    static_train_x,\n",
    "    static_test_x,\n",
    "    static_train_y,\n",
    "    static_test_y,\n",
    ") = train_test_split(fingerprint_to_model, label_to_model, test_size=0.2, random_state=12)\n",
    "splits = [static_train_x, static_test_x, static_train_y, static_test_y]\n",
    "# NBVAL_CHECK_OUTPUT\n",
    "print(\"Training data size:\", len(static_train_x))\n",
    "print(\"Test data size:\", len(static_test_x))"
   ]
  },
  {
   "cell_type": "markdown",
   "metadata": {},
   "source": [
    "#### Random forest classifier\n",
    "\n",
    "We start with a random forest classifier, where we first set the parameters."
   ]
  },
  {
   "cell_type": "markdown",
   "metadata": {},
   "source": [
    "We train the model on a random train-test split and plot the results."
   ]
  },
  {
   "cell_type": "code",
   "execution_count": 14,
   "metadata": {},
   "outputs": [],
   "source": [
    "# Set model parameter for random forest\n",
    "param = {\n",
    "    \"n_estimators\": 100,  # number of trees to grows\n",
    "    \"criterion\": \"entropy\",  # cost function to be optimized for a split\n",
    "}\n",
    "model_RF = RandomForestClassifier(**param)"
   ]
  },
  {
   "cell_type": "code",
   "execution_count": 15,
   "metadata": {},
   "outputs": [
    {
     "name": "stdout",
     "output_type": "stream",
     "text": [
      "Sensitivity: 0.67\n",
      "Specificity: 0.93\n",
      "AUC: 0.90\n"
     ]
    }
   ],
   "source": [
    "# Fit model on single split\n",
    "performance_measures = model_training_and_validation(model_RF, \"RF\", splits)"
   ]
  },
  {
   "cell_type": "code",
   "execution_count": 16,
   "metadata": {},
   "outputs": [
    {
     "name": "stdout",
     "output_type": "stream",
     "text": [
      "Directory already exists\n",
      "Directory already exists, continuing\n"
     ]
    },
    {
     "data": {
      "text/plain": [
       "'/home/jovyan/Cheminformatics/results/roc_auc.png'"
      ]
     },
     "execution_count": 16,
     "metadata": {},
     "output_type": "execute_result"
    },
    {
     "data": {
      "image/png": "[encoded data removed]",
      "text/plain": [
       "<Figure size 640x480 with 1 Axes>"
      ]
     },
     "metadata": {},
     "output_type": "display_data"
    }
   ],
   "source": [
    "# Initialize the list that stores all models. First one is RF.\n",
    "import os\n",
    "from pathlib import Path\n",
    "HOMEDIR = str(Path.home())\n",
    "os.chdir(HOMEDIR)\n",
    "# We need to check whether the directory is there\n",
    "try:\n",
    "    os.mkdir('Cheminformatics')\n",
    "except:\n",
    "    print(\"Directory already exists\")\n",
    "os.chdir('Cheminformatics')\n",
    "\n",
    "models = [{\"label\": \"Model_RF\", \"model\": model_RF}]\n",
    "try:\n",
    "    os.mkdir('results')\n",
    "except:\n",
    "    print(\"Directory already exists, continuing\")\n",
    "# Plot roc curve\n",
    "plot_roc_curves_for_models(models, static_test_x, static_test_y)\n",
    "result_img = '{}/results/roc_auc.png'.format(os.getcwd())\n",
    "result_img"
   ]
  },
  {
   "cell_type": "markdown",
   "metadata": {},
   "source": [
    "#### Support vector classifier\n",
    "Here we train a SVM with a radial-basis function kernel (also: squared-exponential kernel). \n",
    "For more information, see [sklearn RBF kernel](http://scikit-learn.org/stable/modules/generated/sklearn.gaussian_process.kernels.RBF.html)."
   ]
  },
  {
   "cell_type": "code",
   "execution_count": 17,
   "metadata": {
    "scrolled": true
   },
   "outputs": [
    {
     "name": "stdout",
     "output_type": "stream",
     "text": [
      "Sensitivity: 0.60\n",
      "Specificity: 0.94\n",
      "AUC: 0.89\n"
     ]
    }
   ],
   "source": [
    "# Specify model\n",
    "model_SVM = svm.SVC(kernel=\"rbf\", C=1, gamma=0.1, probability=True)\n",
    "\n",
    "# Fit model on single split\n",
    "performance_measures = model_training_and_validation(model_SVM, \"SVM\", splits)"
   ]
  },
  {
   "cell_type": "code",
   "execution_count": 18,
   "metadata": {
    "tags": [
     "nbsphinx-thumbnail"
    ]
   },
   "outputs": [
    {
     "data": {
      "text/plain": [
       "'/home/jovyan/Cheminformatics/results/roc_auc.png'"
      ]
     },
     "execution_count": 18,
     "metadata": {},
     "output_type": "execute_result"
    },
    {
     "data": {
      "image/png": "[encoded data removed]",
      "text/plain": [
       "<Figure size 640x480 with 1 Axes>"
      ]
     },
     "metadata": {},
     "output_type": "display_data"
    }
   ],
   "source": [
    "# Append SVM model\n",
    "models.append({\"label\": \"Model_SVM\", \"model\": model_SVM})\n",
    "# Plot roc curve\n",
    "plot_roc_curves_for_models(models, static_test_x, static_test_y)\n",
    "result_img = '{}/results/roc_auc.png'.format(os.getcwd())\n",
    "result_img"
   ]
  },
  {
   "cell_type": "markdown",
   "metadata": {},
   "source": [
    "#### Neural network classifier\n",
    "The last approach we try here is a neural network model. We train an MLPClassifier (Multi-layer Perceptron classifier) with 3 layers, each with 5 neurons. As before, we do the crossvalidation procedure and plot the results. For more information on MLP, see [sklearn MLPClassifier](http://scikit-learn.org/stable/modules/generated/sklearn.neural_network.MLPClassifier.html)."
   ]
  },
  {
   "cell_type": "code",
   "execution_count": 19,
   "metadata": {
    "scrolled": true
   },
   "outputs": [
    {
     "name": "stdout",
     "output_type": "stream",
     "text": [
      "Sensitivity: 0.55\n",
      "Specificity: 0.92\n",
      "AUC: 0.87\n"
     ]
    }
   ],
   "source": [
    "# Specify model\n",
    "model_ANN = MLPClassifier(hidden_layer_sizes=(5, 3), random_state=12)\n",
    "\n",
    "# Fit model on single split\n",
    "performance_measures = model_training_and_validation(model_ANN, \"ANN\", splits)"
   ]
  },
  {
   "cell_type": "code",
   "execution_count": 20,
   "metadata": {},
   "outputs": [
    {
     "data": {
      "text/plain": [
       "'/home/jovyan/Cheminformatics/results/roc_auc.png'"
      ]
     },
     "execution_count": 20,
     "metadata": {},
     "output_type": "execute_result"
    },
    {
     "data": {
      "image/png": "[encoded data removed]",
      "text/plain": [
       "<Figure size 640x480 with 1 Axes>"
      ]
     },
     "metadata": {},
     "output_type": "display_data"
    }
   ],
   "source": [
    "# Append ANN model\n",
    "models.append({\"label\": \"Model_ANN\", \"model\": model_ANN})\n",
    "# Plot roc curve\n",
    "plot_roc_curves_for_models(models, static_test_x, static_test_y, True)\n",
    "result_img = '{}/results/roc_auc.png'.format(os.getcwd())\n",
    "result_img"
   ]
  },
  {
   "cell_type": "markdown",
   "metadata": {},
   "source": [
    "Our models show very good values for all measured values (see AUCs) and thus seem to be predictive."
   ]
  },
  {
   "cell_type": "markdown",
   "metadata": {},
   "source": [
    "#### Cross-validation\n",
    "\n",
    "Next, we will perform cross-validation experiments with the three different models.\n",
    "Therefore, we define a helper function for machine learning model training and validation in a cross-validation loop."
   ]
  },
  {
   "cell_type": "code",
   "execution_count": 21,
   "metadata": {},
   "outputs": [],
   "source": [
    "def crossvalidation(ml_model, df, n_folds=5, verbose=False):\n",
    "    \"\"\"\n",
    "    Machine learning model training and validation in a cross-validation loop.\n",
    "\n",
    "    Parameters\n",
    "    ----------\n",
    "    ml_model: sklearn model object\n",
    "        The machine learning model to train.\n",
    "    df: pd.DataFrame\n",
    "        Data set with SMILES and their associated activity labels.\n",
    "    n_folds: int, optional\n",
    "        Number of folds for cross-validation.\n",
    "    verbose: bool, optional\n",
    "        Performance measures are printed.\n",
    "\n",
    "    Returns\n",
    "    -------\n",
    "    None\n",
    "\n",
    "    \"\"\"\n",
    "    t0 = time.time()\n",
    "    # Shuffle the indices for the k-fold cross-validation\n",
    "    kf = KFold(n_splits=n_folds, shuffle=True, random_state=SEED)\n",
    "\n",
    "    # Results for each of the cross-validation folds\n",
    "    acc_per_fold = []\n",
    "    sens_per_fold = []\n",
    "    spec_per_fold = []\n",
    "    auc_per_fold = []\n",
    "\n",
    "    # Loop over the folds\n",
    "    for train_index, test_index in kf.split(df):\n",
    "        # clone model -- we want a fresh copy per fold!\n",
    "        fold_model = clone(ml_model)\n",
    "        # Training\n",
    "\n",
    "        # Convert the fingerprint and the label to a list\n",
    "        train_x = df.iloc[train_index].fp.tolist()\n",
    "        train_y = df.iloc[train_index].active.tolist()\n",
    "\n",
    "        # Fit the model\n",
    "        fold_model.fit(train_x, train_y)\n",
    "\n",
    "        # Testing\n",
    "\n",
    "        # Convert the fingerprint and the label to a list\n",
    "        test_x = df.iloc[test_index].fp.tolist()\n",
    "        test_y = df.iloc[test_index].active.tolist()\n",
    "\n",
    "        # Performance for each fold\n",
    "        accuracy, sens, spec, auc = model_performance(fold_model, test_x, test_y, verbose)\n",
    "\n",
    "        # Save results\n",
    "        acc_per_fold.append(accuracy)\n",
    "        sens_per_fold.append(sens)\n",
    "        spec_per_fold.append(spec)\n",
    "        auc_per_fold.append(auc)\n",
    "\n",
    "    # Print statistics of results\n",
    "    print(\n",
    "        f\"Mean accuracy: {np.mean(acc_per_fold):.2f} \\t\"\n",
    "        f\"and std : {np.std(acc_per_fold):.2f} \\n\"\n",
    "        f\"Mean sensitivity: {np.mean(sens_per_fold):.2f} \\t\"\n",
    "        f\"and std : {np.std(sens_per_fold):.2f} \\n\"\n",
    "        f\"Mean specificity: {np.mean(spec_per_fold):.2f} \\t\"\n",
    "        f\"and std : {np.std(spec_per_fold):.2f} \\n\"\n",
    "        f\"Mean AUC: {np.mean(auc_per_fold):.2f} \\t\"\n",
    "        f\"and std : {np.std(auc_per_fold):.2f} \\n\"\n",
    "        f\"Time taken : {time.time() - t0:.2f}s\\n\"\n",
    "    )\n",
    "\n",
    "    return acc_per_fold, sens_per_fold, spec_per_fold, auc_per_fold"
   ]
  },
  {
   "cell_type": "markdown",
   "metadata": {},
   "source": [
    "**Cross-validation**\n",
    "\n",
    "We now apply cross-validation and show the statistics for all three ML models. In real world conditions, cross-validation usually applies 5 or more folds, but for the sake of performance we will reduce it to 3. You can change the value of `N_FOLDS` in this cell below."
   ]
  },
  {
   "cell_type": "code",
   "execution_count": 22,
   "metadata": {},
   "outputs": [],
   "source": [
    "N_FOLDS = 3"
   ]
  },
  {
   "cell_type": "markdown",
   "metadata": {},
   "source": [
    "_Note_: Next cell takes long to execute"
   ]
  },
  {
   "cell_type": "code",
   "execution_count": 23,
   "metadata": {},
   "outputs": [
    {
     "name": "stdout",
     "output_type": "stream",
     "text": [
      "\n",
      "======= \n",
      "Model_RF\n",
      "Mean accuracy: 0.86 \tand std : 0.00 \n",
      "Mean sensitivity: 0.60 \tand std : 0.01 \n",
      "Mean specificity: 0.93 \tand std : 0.00 \n",
      "Mean AUC: 0.88 \tand std : 0.00 \n",
      "Time taken : 3.65s\n",
      "\n",
      "\n",
      "======= \n",
      "Model_SVM\n",
      "Mean accuracy: 0.86 \tand std : 0.01 \n",
      "Mean sensitivity: 0.53 \tand std : 0.02 \n",
      "Mean specificity: 0.95 \tand std : 0.00 \n",
      "Mean AUC: 0.87 \tand std : 0.01 \n",
      "Time taken : 106.89s\n",
      "\n",
      "\n",
      "======= \n",
      "Model_ANN\n",
      "Mean accuracy: 0.82 \tand std : 0.00 \n",
      "Mean sensitivity: 0.53 \tand std : 0.02 \n",
      "Mean specificity: 0.90 \tand std : 0.01 \n",
      "Mean AUC: 0.85 \tand std : 0.00 \n",
      "Time taken : 13.39s\n",
      "\n"
     ]
    }
   ],
   "source": [
    "for model in models:\n",
    "    print(\"\\n======= \")\n",
    "    print(f\"{model['label']}\")\n",
    "    crossvalidation(model[\"model\"], compound_df, n_folds=N_FOLDS)"
   ]
  },
  {
   "cell_type": "markdown",
   "metadata": {},
   "source": [
    "We look at the cross-validation performance for molecules encoded using Morgan fingerprint and not MACCS keys."
   ]
  },
  {
   "cell_type": "code",
   "execution_count": 24,
   "metadata": {},
   "outputs": [],
   "source": [
    "# Reset data frame\n",
    "compound_df = compound_df.drop(['fp'], axis=1)"
   ]
  },
  {
   "cell_type": "code",
   "execution_count": 25,
   "metadata": {},
   "outputs": [
    {
     "data": {
      "text/html": [
       "<div>\n",
       "<style scoped>\n",
       "    .dataframe tbody tr th:only-of-type {\n",
       "        vertical-align: middle;\n",
       "    }\n",
       "\n",
       "    .dataframe tbody tr th {\n",
       "        vertical-align: top;\n",
       "    }\n",
       "\n",
       "    .dataframe thead th {\n",
       "        text-align: right;\n",
       "    }\n",
       "</style>\n",
       "<table border=\"1\" class=\"dataframe\">\n",
       "  <thead>\n",
       "    <tr style=\"text-align: right;\">\n",
       "      <th></th>\n",
       "      <th>Molecule ChEMBL ID</th>\n",
       "      <th>pChEMBL_value</th>\n",
       "      <th>Smiles</th>\n",
       "      <th>Assay_Type</th>\n",
       "      <th>Standard Relation</th>\n",
       "      <th>Standard Value</th>\n",
       "      <th>active</th>\n",
       "      <th>fp</th>\n",
       "    </tr>\n",
       "  </thead>\n",
       "  <tbody>\n",
       "    <tr>\n",
       "      <th>0</th>\n",
       "      <td>CHEMBL249492</td>\n",
       "      <td>5.8</td>\n",
       "      <td>CC1(C)CC(Nc2ncnc3c2ncn3[C@@H]2O[C@H](CO)[C@@H]...</td>\n",
       "      <td>B</td>\n",
       "      <td>'='</td>\n",
       "      <td>1580.0</td>\n",
       "      <td>0.0</td>\n",
       "      <td>[0, 0, 0, 0, 0, 0, 0, 0, 0, 0, 0, 0, 0, 0, 0, ...</td>\n",
       "    </tr>\n",
       "    <tr>\n",
       "      <th>2</th>\n",
       "      <td>CHEMBL602843</td>\n",
       "      <td>NaN</td>\n",
       "      <td>CNC(=O)[C@@]12C[C@@H]1[C@@H](n1cnc3c(NCc4cccc(...</td>\n",
       "      <td>B</td>\n",
       "      <td>'='</td>\n",
       "      <td>3.0</td>\n",
       "      <td>0.0</td>\n",
       "      <td>[0, 0, 0, 0, 0, 0, 0, 0, 0, 0, 0, 0, 0, 0, 0, ...</td>\n",
       "    </tr>\n",
       "    <tr>\n",
       "      <th>3</th>\n",
       "      <td>CHEMBL589513</td>\n",
       "      <td>NaN</td>\n",
       "      <td>CNC(=O)[C@@]12C[C@@H]1[C@@H](n1cnc3c(NCc4cccc(...</td>\n",
       "      <td>B</td>\n",
       "      <td>'='</td>\n",
       "      <td>12.0</td>\n",
       "      <td>0.0</td>\n",
       "      <td>[0, 0, 0, 0, 0, 0, 0, 0, 0, 0, 0, 0, 0, 0, 0, ...</td>\n",
       "    </tr>\n",
       "  </tbody>\n",
       "</table>\n",
       "</div>"
      ],
      "text/plain": [
       "  Molecule ChEMBL ID  pChEMBL_value  \\\n",
       "0       CHEMBL249492            5.8   \n",
       "2       CHEMBL602843            NaN   \n",
       "3       CHEMBL589513            NaN   \n",
       "\n",
       "                                              Smiles Assay_Type  \\\n",
       "0  CC1(C)CC(Nc2ncnc3c2ncn3[C@@H]2O[C@H](CO)[C@@H]...          B   \n",
       "2  CNC(=O)[C@@]12C[C@@H]1[C@@H](n1cnc3c(NCc4cccc(...          B   \n",
       "3  CNC(=O)[C@@]12C[C@@H]1[C@@H](n1cnc3c(NCc4cccc(...          B   \n",
       "\n",
       "  Standard Relation  Standard Value  active  \\\n",
       "0               '='          1580.0     0.0   \n",
       "2               '='             3.0     0.0   \n",
       "3               '='            12.0     0.0   \n",
       "\n",
       "                                                  fp  \n",
       "0  [0, 0, 0, 0, 0, 0, 0, 0, 0, 0, 0, 0, 0, 0, 0, ...  \n",
       "2  [0, 0, 0, 0, 0, 0, 0, 0, 0, 0, 0, 0, 0, 0, 0, ...  \n",
       "3  [0, 0, 0, 0, 0, 0, 0, 0, 0, 0, 0, 0, 0, 0, 0, ...  "
      ]
     },
     "execution_count": 25,
     "metadata": {},
     "output_type": "execute_result"
    }
   ],
   "source": [
    "# Use Morgan fingerprint with radius 3\n",
    "compound_df[\"fp\"] = compound_df[\"Smiles\"].apply(smiles_to_fp, args=(\"morgan3\",))\n",
    "compound_df.head(3)\n",
    "# NBVAL_CHECK_OUTPUT"
   ]
  },
  {
   "cell_type": "markdown",
   "metadata": {},
   "source": [
    "_Note_: Next cell takes long to execute"
   ]
  },
  {
   "cell_type": "code",
   "execution_count": 26,
   "metadata": {
    "scrolled": true
   },
   "outputs": [
    {
     "name": "stdout",
     "output_type": "stream",
     "text": [
      "\n",
      "=======\n",
      "Model_RF\n",
      "Mean accuracy: 0.87 \tand std : 0.00 \n",
      "Mean sensitivity: 0.63 \tand std : 0.01 \n",
      "Mean specificity: 0.94 \tand std : 0.00 \n",
      "Mean AUC: 0.91 \tand std : 0.00 \n",
      "Time taken : 26.68s\n",
      "\n",
      "\n",
      "=======\n",
      "Model_ANN\n",
      "Mean accuracy: 0.85 \tand std : 0.00 \n",
      "Mean sensitivity: 0.64 \tand std : 0.01 \n",
      "Mean specificity: 0.91 \tand std : 0.01 \n",
      "Mean AUC: 0.88 \tand std : 0.00 \n",
      "Time taken : 265.15s\n",
      "\n"
     ]
    }
   ],
   "source": [
    "for model in models:\n",
    "    if model[\"label\"] == \"Model_SVM\":\n",
    "        # SVM is super slow with long fingerprints\n",
    "        # and will have a performance similar to RF\n",
    "        # We can skip it in this test, but if you want\n",
    "        # to run it, feel free to replace `continue` with `pass`\n",
    "        continue\n",
    "    print(\"\\n=======\")\n",
    "    print(model[\"label\"])\n",
    "    reduced_df = compound_df[['active','fp']]\n",
    "    crossvalidation(model[\"model\"], reduced_df, n_folds=N_FOLDS)"
   ]
  },
  {
   "cell_type": "markdown",
   "metadata": {},
   "source": [
    "So far, we have been running classification models (is the compound going to be active or not, indicated by the active column we added in the dataframe). The next step is to see if we can also train a classification model. We will remove the censored data (the ones with no pChEMBL value), and train another model. \n",
    "\n",
    "Make a new function that works with regression:"
   ]
  },
  {
   "cell_type": "code",
   "execution_count": 27,
   "metadata": {},
   "outputs": [],
   "source": [
    "def crossvalidation_reg(ml_model, df, n_folds=5, verbose=False):\n",
    "    \"\"\"\n",
    "    Machine learning model training and validation in a cross-validation loop.\n",
    "\n",
    "    Parameters\n",
    "    ----------\n",
    "    ml_model: sklearn model object\n",
    "        The machine learning model to train.\n",
    "    df: pd.DataFrame\n",
    "        Data set with SMILES and their associated activity labels.\n",
    "    n_folds: int, optional\n",
    "        Number of folds for cross-validation.\n",
    "    verbose: bool, optional\n",
    "        Performance measures are printed.\n",
    "\n",
    "    Returns\n",
    "    -------\n",
    "    None\n",
    "\n",
    "    \"\"\"\n",
    "    t0 = time.time()\n",
    "    # Shuffle the indices for the k-fold cross-validation\n",
    "    kf = KFold(n_splits=n_folds, shuffle=True, random_state=SEED)\n",
    "\n",
    "    # Results for each of the cross-validation folds\n",
    "    MAE_per_fold = []\n",
    "    RMSE_per_fold = []\n",
    "\n",
    "    # Loop over the folds\n",
    "    for train_index, test_index in kf.split(df):\n",
    "        # clone model -- we want a fresh copy per fold!\n",
    "        fold_model = clone(ml_model)\n",
    "        # Training\n",
    "\n",
    "        # Convert the fingerprint and the label to a list\n",
    "        train_x = df.iloc[train_index].fp.tolist()\n",
    "        train_y = df.iloc[train_index].pChEMBL_value.tolist()\n",
    "\n",
    "        # Fit the model\n",
    "        fold_model.fit(train_x, train_y)\n",
    "\n",
    "        # Testing\n",
    "\n",
    "        # Convert the fingerprint and the label to a list\n",
    "        test_x = df.iloc[test_index].fp.tolist()\n",
    "        test_y = df.iloc[test_index].pChEMBL_value.tolist()\n",
    "        \n",
    "        test_results = fold_model.predict(test_x)\n",
    "        # Prediction probability on test set\n",
    "        from sklearn import metrics\n",
    "\n",
    "        MAE_per_fold.append(metrics.mean_absolute_error(test_y, test_results))\n",
    "        #print('Mean Squared Error (MSE):', metrics.mean_squared_error(test_y, test_results))\n",
    "        RMSE_per_fold.append(np.sqrt(metrics.mean_squared_error(test_y, test_results)))\n",
    "        #mape = np.mean(np.abs((gt - pred) / np.abs(gt)))\n",
    "        #print('Mean Absolute Percentage Error (MAPE):', round(mape * 100, 2))\n",
    "        #print('Accuracy:', round(100*(1 - mape), 2))\n",
    "    return(MAE_per_fold,RMSE_per_fold,fold_model)"
   ]
  },
  {
   "cell_type": "markdown",
   "metadata": {},
   "source": [
    "Next, make new data and run."
   ]
  },
  {
   "cell_type": "code",
   "execution_count": 28,
   "metadata": {},
   "outputs": [
    {
     "name": "stdout",
     "output_type": "stream",
     "text": [
      "Training data size: 10356\n",
      "Test data size: 2589\n"
     ]
    }
   ],
   "source": [
    "fingerprint_to_model = compound_df.fp.tolist()\n",
    "label_to_model = compound_df.pChEMBL_value.tolist()\n",
    "\n",
    "# Split data randomly in train and test set\n",
    "# note that we use test/train_x for the respective fingerprint splits\n",
    "# and test/train_y for the respective label splits\n",
    "(\n",
    "    static_train_x,\n",
    "    static_test_x,\n",
    "    static_train_y,\n",
    "    static_test_y,\n",
    ") = train_test_split(fingerprint_to_model, label_to_model, test_size=0.2, random_state=12)\n",
    "splits = [static_train_x, static_test_x, static_train_y, static_test_y]\n",
    "# NBVAL_CHECK_OUTPUT\n",
    "print(\"Training data size:\", len(static_train_x))\n",
    "print(\"Test data size:\", len(static_test_x))"
   ]
  },
  {
   "cell_type": "code",
   "execution_count": 30,
   "metadata": {
    "scrolled": true
   },
   "outputs": [
    {
     "name": "stdout",
     "output_type": "stream",
     "text": [
      "MAE: 0.49 \tand std : 0.01 \n",
      "RMSE: 0.69 \tand std : 0.01 \n",
      "\n"
     ]
    }
   ],
   "source": [
    "# Kick out NaN in the pChEMBL values\n",
    "compound_df_noNaN = compound_df.dropna()\n",
    "\n",
    "# Append RF Regressor model\n",
    "#models.append({\"label\": \"Model_RF_reg\", \"model\": RandomForestRegressor})\n",
    "#Train model with RandomForestRegressor\n",
    "regressor = RandomForestRegressor()\n",
    "MAE, RMSE,trained_model = crossvalidation_reg(regressor , compound_df_noNaN, n_folds=N_FOLDS)\n",
    "\n",
    "print(\n",
    "f\"MAE: {np.mean(MAE):.2f} \\t\"\n",
    "f\"and std : {np.std(MAE):.2f} \\n\"\n",
    "f\"RMSE: {np.mean(RMSE):.2f} \\t\"\n",
    "f\"and std : {np.std(RMSE):.2f} \\n\"\n",
    ")"
   ]
  },
  {
   "cell_type": "markdown",
   "metadata": {},
   "source": [
    "You will notice that we report different measures of accuracy. We no longer deal with categorical data so we now look at the errors between experimental data and predicted data using the MAE and RMSE. Typically, an MAE below 0.6 and/or RMSE below, approximately, is considered quite decent.\n",
    "\n",
    "Next, let's use the RF model to run predictions on a new compound. You can design your compounds in a sketcher (chemdraw (https://chemdrawdirect.perkinelmer.cloud/js/sample/index.html#) or an online tool)."
   ]
  },
  {
   "cell_type": "code",
   "execution_count": 74,
   "metadata": {},
   "outputs": [
    {
     "name": "stdout",
     "output_type": "stream",
     "text": [
      "SMILES, PREDICTION\n",
      "CCCN1C(=O)C2=C(N=C(N2)C3CCCCC3)N(C1=O)CCCNC(=O)C4=CC=C(C=C4)S(=O)(=O)F,7.34\n",
      "CCCN1C(C2=C(N(CCCNC(C3=CC=C(S(=O)(F)=O)C=C3)=O)C1=O)N=C(C4CCC(CC4)=O)N2)=O,6.96\n",
      "CCCN1C(C2=C(N(CCCNC(C3=CC=C(S)C=C3)=O)C1=O)N=C(C4CCCCC4)N2)=O,7.23\n",
      "OCCN1C(C2=C(N(CCCNC(C3=CC=C(S)C=C3)=O)C1=O)N=C(C4CCCCC4)N2)=O,6.62\n",
      "NCCN1C(C2=C(N(CCCNC(C3=CC=C(S)C=C3)=O)C1=O)N=C(C4CCCCC4)N2)=O,6.61\n",
      "CCCN1C(C2=C(N(CCCNC(C3=CC=C(S)C=C3)=O)C1=O)N=C(C4CCN=CC4)N2)=O,6.78\n",
      "O=C(C1=C(N(CCCNC(C2=CC=C(S)C=C2)=O)C3=O)N=C(C4CCCC4)N1)N3CCCC,7.55\n",
      "O=C(C1=C(N(CCCNC(C2=CC=C(S(=O)([H])=O)C=C2)=O)C3=O)N=C(C4CCCC4)N1)N3CCCC,7.49\n",
      "O=C(C1=C(N(CCCNC(C2=CC=C(S(=O)([H])=O)C=C2)=O)C3=O)N=C(C(C)=O)N1)N3CCCC,6.31\n",
      "O=C(C1=C(N(CCCNC(C2=CC=C(S(=O)([H])=O)C=C2)=O)C3=O)N=C(CO)N1)N3CCCC,6.30\n",
      "O=C(C1=C(N(CCCNC(C)(C)C2=CC=C(S(=O)([H])=O)C=C2)C3=O)N=C(C4CCCC4)N1)N3CCCC,7.41\n",
      "O=C(C1=C(N(CCCNC(C)(N)C2=CC=C(S(=O)([H])=O)C=C2)C3=O)N=C(C4CCCC4)N1)N3CCCC,7.45\n",
      "O=C(C1=C(N(CCCNC(N)(N)C2=CC=C(S(=O)([H])=O)C=C2)C3=O)N=C(C4CCCC4)N1)N3CCCC,7.46\n",
      "O=C(C1=C(N(CCCNC(N)C2=CC=C(S(=O)([H])=O)C=C2)C3=O)N=C(C4CCCC4)N1)N3CCCC,7.50\n",
      "O=C(C1=C(N(CCCNC(N)C2=CC=C(S(=O)([H])=O)C=C2)C3=O)N=C(C4CCCC4)N1)N3CCCN,7.44\n",
      "O=C(C1=C(N(CCCNC(N)C2=CC=C(S(=O)([H])=O)C=C2)C3=O)N=C(C4CCCC4)N1)N3CCCO,7.46\n",
      "O=C(C1=C(N(CCC(N)NC(N)C2=CC=C(S(=O)([H])=O)C=C2)C3=O)N=C(C4CCCC4)N1)N3CCCC,7.53\n",
      "O=C(N1CCCC)C2=C(N=C(C3CCCCC3)N2)N(C1=O)CCCNC(C4=CC=C(C=C4)S)=O,6.59\n",
      "O=C(N1CCCC)C2=C(N=C(N2)C3CCCCC3)N(C1=O)CCCNC(C4=CC=C(C=C4)S(=O)([H])=O)=O,6.51\n",
      "O=C(N1CCCC)C2=C(N=C(N2)C3CC3)N(C1=O)CCCNC(C4=CC=C(C=C4)S(=O)([H])=O)=O,6.31\n",
      "O=C(N1CCCC)C2=C(N=C(N2)C3CCCC3)N(C1=O)CCCNC(N)C4=CC=C(C=C4)S(=O)([H])=O,7.50\n",
      "O=C(N1CCCC)C2=C(N=C(N2)C3CCCC3)N(C1=O)CC(C)CNC(N)C4=CC=C(C=C4)S(=O)([H])=O,7.48\n",
      "O=C(N1CCCC)C2=C(N=C(N2)C3CCCC3)N(C1=O)CCCNC(CN)C4=CC=C(C=C4)S(=O)([H])=O,7.40\n",
      "O=C(N1CCCC)C2=C(N=C(N2)C3CCCC3)N(C1=O)CCCNC(C(N)N)C4=CC=C(C=C4)S(=O)([H])=O,7.49\n",
      "O=C(N1CCCC)C2=C(N=C(N2)C3CCCC3)N(C1=O)CCCNC(C(CN)N)C4=CC=C(C=C4)S(=O)([H])=O,7.46\n",
      "O=C(N1CCCC)C2=C(N=C(N2)C3CCCC3)N(C1=O)CCCNC(C(O)N)C4=CC=C(C=C4)S(=O)([H])=O,7.43\n",
      "O=C(N1CCCC)C2=C(N=C(N2)C3CCCC3)N(C1=O)CCCNC(C(N)N)C,7.55\n",
      "O=C(N1CCCC)C2=C(N=C(N2)C3CCCC3)N(C1=O)CCCNC(C(N)N)C4CCCC4,7.53\n",
      "O=C(N1CCCC)C2=C(N=C(N2)C3CCCC3)N(C1=O)CCCNC(C(N)N)N,7.52\n",
      "O=C(N1CCCC)C2=C(N=C(N2)C3CCCC3)N(C1=O)CCCNC(C(N)N)C4=CC=CC=C4,7.49\n",
      "O=C(N1CCCC)C2=C(N=C(N2)C3CCCC3)N(C1=O)CCCNC(C(N)N)C4=CC=C(N)C=C4,7.49\n",
      "O=C(N1CCCC)C2=C(N=C(N2)C3CCCC3)N(C1=O)CCCNC(C(N)N)C4=CC=C(S)C=C4,7.49\n",
      "O=C(N1CCCC2=CC=CC=C2)C3=C(N=C(N3)C4CCCC4)N(C1=O)CCCNC(C(N)N)C5=CC=CC=C5,7.46\n",
      "O=C(N1CCCC)C2=C(N=C(N2)C3CCCC3)N(C1=O)CCCNC4(CCCCC4)C(N)N,7.53\n",
      "O=C(N1CCCC)C2=C(N=C(N2)C3CCCC3)N(C1=O)CCCNC4(CCNCC4)C(N)N,7.53\n",
      "O=C(N1CCCC)C2=C(N=C(N2)C3CCCC3)N(C1=O)CCCNC(C4=CC=C(C)C=C4)C(N)N,7.49\n",
      "CCCN1C(C2=C(N=C(N2)C3CCCC3)N(C1=O)CCCNC=O)=O,8.12\n",
      "CCCN1C(C2=C(N=C(N2)C3CCCCC3)N(C1=O)CCCNC=O)=O,7.21\n",
      "CCCN1C(C2=C(N=C(N2)C3CCCC3)N(C1=O)CCCCCC)=O,8.39\n",
      "CCCN1C(C2=C(N=C(N2)C3CCCCC3)N(C1=O)CCCCCC)=O,7.24\n",
      "CCCN1C(C2=C(N=C(N2)C3CCCCC3)N(C1=O)CCCCC)=O,7.24\n",
      "CCCN1C(C2=C(N=C(N2)C3CCCCC3)N(C1=O)CCCC)=O,7.22\n",
      "CCCN1C(C2=C(N=C(N2)C3CCCCC3)N(C1=O)CCC)=O,7.26\n",
      "O=C1N(CCCCCC)C(N=C(N2)C3CCCCC3)=C2C(N1CCCC)=O,6.64\n",
      "CCCN1C(C2=C(N=C(N2)O)N(C1=O)CCCCCC)=O,6.80\n",
      "O=C1N(CCCCCC)C(N=C(N2)C3CCCC3)=C2C(N1CCCC)=O,7.51\n",
      "CCCN1C(C2=C(N=C(N2)C3CCC(O)CC3)N(C1=O)CCCCCC)=O,6.83\n",
      "CCCN1C(C2=C(N(CCCNC(C)=O)C1=O)N=C(C3CCCCC3)N2)=O,7.21\n",
      "CCCN1C(C2=C(N(CCCNC(C)=O)C1=O)N=C(C3CCCC3)N2)=O,8.07\n",
      "O=C1N(CCCNC(C2=CC=C(S(=O)=O)C=C2)=O)C(N=C(C3CCCC3)N4)=C4C(N1CCCC)=O,7.49\n",
      "CCCN1C(C2=C(N(CCCNC(C3=CC=C(S(=O)=O)C=C3)=O)C1=O)N=C(C4CCCC4)N2)=O,8.12\n",
      "CCCN1C(C2=C(N(CCCNC(C3=CC=C(S)C=C3)=O)C1=O)N=C(C4CCCC4)N2)=O,8.12\n",
      "CCCN1C(C2=C(N(CCCNC(C3=CC=C(S)C=C3)=O)C1=O)N=C(C4CC(CC4)=O)N2)=O,6.80\n",
      "CCCN1C(C2=C(N(CCCNC(C3=CC=CC=C3)=O)C1=O)N=C(C4CC(S)CC4)N2)=O,6.78\n",
      "CCCN1C(C2=C(N(CCCNC(C3CCCCC3)=O)C1=O)N=C(C4CCCC4)N2)=O,8.05\n",
      "CCCN1C(C2=C(N(CCCNC(C3CCC(N)CC3)=O)C1=O)N=C(C4CCCC4)N2)=O,8.05\n",
      "CCCN1C(C2=C(N(CCCNC(C3CCC(OC)CC3)=O)C1=O)N=C(C4CCCC4)N2)=O,7.82\n",
      "O=C1N(CCCNC(C2CCCCC2)=O)C(N=C(C3CCCC3)N4)=C4C(N1CCC(C)=O)=O,7.56\n",
      "CCCN1C(C2=C(N(C/C=C/NC(C3CCCCC3)=O)C1=O)N=C(C4CCCC4)N2)=O,8.38\n",
      "CCCN1C(C2=C(N(C/C=C/NC(C)=O)C1=O)N=C(C3CCCC3)N2)=O,8.39\n",
      "CCCN1C(C2=C(N(C/C=C/NC(C3=CC=CC=C3)=O)C1=O)N=C(C4CCCC4)N2)=O,8.27\n",
      "CCCN1C(C2=C(N(C/C=C/NC(C3=CC=C(S)C=C3)=O)C1=O)N=C(C4CCCC4)N2)=O,8.37\n",
      "CCCN1C(C2=C(N(C/C=C/NC(C3=CC=C(S(=O)(F)=O)C=C3)=O)C1=O)N=C(C4CCCC4)N2)=O,8.39\n",
      "CCCN1C(C2=C(N(C(N)/C=C/NC(C3=CC=C(S(=O)(F)=O)C=C3)=O)C1=O)N=C(C4CCCC4)N2)=O,8.07\n",
      "CCCN1C(C2=C(N(C(O)/C=C/NC(C3=CC=C(S(=O)(F)=O)C=C3)=O)C1=O)N=C(C4CCCC4)N2)=O,8.11\n",
      "CCCN1C(C2=C(N(C/C=C/NC(C3=CC=C(S(=O)(F)=O)C=C3)=O)C1=O)N=C(C4CCC=C4)N2)=O,6.77\n",
      "C=CCN1C(C2=C(N(C/C=C/NC(C3=CC=C(S(=O)(F)=O)C=C3)=O)C1=O)N=C(C4CCCC4)N2)=O,7.76\n",
      "CCCN1C(C2=C(N(C/C=C/NC(C3=CC=C(N)C=C3)=O)C1=O)N=C(C4CCCC4)N2)=O,8.28\n",
      "O=C1N(C/C=C/NC(C2=CC=C(S(=O)(F)=O)C=C2)=O)C(N=C(C3CCCC3)N4)=C4C(N1CCC5CCCC5)=O,7.80\n",
      "O=C1N(C/C=C/NC(C2=CC=C(S(=O)(F)=O)C=C2)=O)C(N=C(C3CCCC3)N4)=C4C(N1C5CCCC5)=O,7.57\n",
      "CCCN1C(C2=C(N(C/C=C/NC(CCC)=O)C1=O)N=C(C3CCCC3)N2)=O,8.09\n",
      "CCCN1C(C2=C(N(CC(CC3CCCC3)CNC(C4=CC=C(S(=O)(F)=O)C=C4)=O)C1=O)N=C(C5CCCCC5)N2)=O,7.24\n"
     ]
    }
   ],
   "source": [
    "# The first entry is the co-crystalized ligand \n",
    "# which is added for reference (so we can compare \n",
    "# to its actual pChEMBL value)\n",
    "# BELOW: add your own molecules\n",
    "test_smiles = [\n",
    "    \n",
    "    'CCCN1C(=O)C2=C(N=C(N2)C3CCCCC3)N(C1=O)CCCNC(=O)C4=CC=C(C=C4)S(=O)(=O)F', #DU1 #ligand_00\n",
    "    'CCCN1C(C2=C(N(CCCNC(C3=CC=C(S(=O)(F)=O)C=C3)=O)C1=O)N=C(C4CCC(CC4)=O)N2)=O', #ligand_01\n",
    "    'CCCN1C(C2=C(N(CCCNC(C3=CC=C(S)C=C3)=O)C1=O)N=C(C4CCCCC4)N2)=O', #ligand_02\n",
    "    'OCCN1C(C2=C(N(CCCNC(C3=CC=C(S)C=C3)=O)C1=O)N=C(C4CCCCC4)N2)=O', #ligand_03\n",
    "    'NCCN1C(C2=C(N(CCCNC(C3=CC=C(S)C=C3)=O)C1=O)N=C(C4CCCCC4)N2)=O', #ligand_04\n",
    "    'CCCN1C(C2=C(N(CCCNC(C3=CC=C(S)C=C3)=O)C1=O)N=C(C4CCN=CC4)N2)=O', #ligand_05\n",
    "    'O=C(C1=C(N(CCCNC(C2=CC=C(S)C=C2)=O)C3=O)N=C(C4CCCC4)N1)N3CCCC', #ligand_06\n",
    "    'O=C(C1=C(N(CCCNC(C2=CC=C(S(=O)([H])=O)C=C2)=O)C3=O)N=C(C4CCCC4)N1)N3CCCC', #ligand_07\n",
    "    'O=C(C1=C(N(CCCNC(C2=CC=C(S(=O)([H])=O)C=C2)=O)C3=O)N=C(C(C)=O)N1)N3CCCC', #ligand_08\n",
    "    'O=C(C1=C(N(CCCNC(C2=CC=C(S(=O)([H])=O)C=C2)=O)C3=O)N=C(CO)N1)N3CCCC', #ligand_09\n",
    "    'O=C(C1=C(N(CCCNC(C)(C)C2=CC=C(S(=O)([H])=O)C=C2)C3=O)N=C(C4CCCC4)N1)N3CCCC', #ligand_10\n",
    "    'O=C(C1=C(N(CCCNC(C)(N)C2=CC=C(S(=O)([H])=O)C=C2)C3=O)N=C(C4CCCC4)N1)N3CCCC', #ligand_11\n",
    "    'O=C(C1=C(N(CCCNC(N)(N)C2=CC=C(S(=O)([H])=O)C=C2)C3=O)N=C(C4CCCC4)N1)N3CCCC', #ligand_12\n",
    "    'O=C(C1=C(N(CCCNC(N)C2=CC=C(S(=O)([H])=O)C=C2)C3=O)N=C(C4CCCC4)N1)N3CCCC', #ligand_13\n",
    "    'O=C(C1=C(N(CCCNC(N)C2=CC=C(S(=O)([H])=O)C=C2)C3=O)N=C(C4CCCC4)N1)N3CCCN', #ligand_14\n",
    "    'O=C(C1=C(N(CCCNC(N)C2=CC=C(S(=O)([H])=O)C=C2)C3=O)N=C(C4CCCC4)N1)N3CCCO', #ligand_15\n",
    "    'O=C(C1=C(N(CCC(N)NC(N)C2=CC=C(S(=O)([H])=O)C=C2)C3=O)N=C(C4CCCC4)N1)N3CCCC', #ligand_16\n",
    "    'O=C(N1CCCC)C2=C(N=C(C3CCCCC3)N2)N(C1=O)CCCNC(C4=CC=C(C=C4)S)=O', #ligand_17\n",
    "    'O=C(N1CCCC)C2=C(N=C(N2)C3CCCCC3)N(C1=O)CCCNC(C4=CC=C(C=C4)S(=O)([H])=O)=O', #ligand_18\n",
    "    'O=C(N1CCCC)C2=C(N=C(N2)C3CC3)N(C1=O)CCCNC(C4=CC=C(C=C4)S(=O)([H])=O)=O', #ligand_19\n",
    "    'O=C(N1CCCC)C2=C(N=C(N2)C3CCCC3)N(C1=O)CCCNC(N)C4=CC=C(C=C4)S(=O)([H])=O', #ligand_20\n",
    "    'O=C(N1CCCC)C2=C(N=C(N2)C3CCCC3)N(C1=O)CC(C)CNC(N)C4=CC=C(C=C4)S(=O)([H])=O', #ligand_21\n",
    "    'O=C(N1CCCC)C2=C(N=C(N2)C3CCCC3)N(C1=O)CCCNC(CN)C4=CC=C(C=C4)S(=O)([H])=O', #ligand_22\n",
    "    'O=C(N1CCCC)C2=C(N=C(N2)C3CCCC3)N(C1=O)CCCNC(C(N)N)C4=CC=C(C=C4)S(=O)([H])=O', #ligand_23\n",
    "    'O=C(N1CCCC)C2=C(N=C(N2)C3CCCC3)N(C1=O)CCCNC(C(CN)N)C4=CC=C(C=C4)S(=O)([H])=O', #ligand_24\n",
    "    'O=C(N1CCCC)C2=C(N=C(N2)C3CCCC3)N(C1=O)CCCNC(C(O)N)C4=CC=C(C=C4)S(=O)([H])=O', #ligand_25\n",
    "    'O=C(N1CCCC)C2=C(N=C(N2)C3CCCC3)N(C1=O)CCCNC(C(N)N)C', #ligand_26\n",
    "    'O=C(N1CCCC)C2=C(N=C(N2)C3CCCC3)N(C1=O)CCCNC(C(N)N)C4CCCC4', #ligand_27\n",
    "    'O=C(N1CCCC)C2=C(N=C(N2)C3CCCC3)N(C1=O)CCCNC(C(N)N)N', #ligand_28\n",
    "    'O=C(N1CCCC)C2=C(N=C(N2)C3CCCC3)N(C1=O)CCCNC(C(N)N)C4=CC=CC=C4', #ligand_29\n",
    "    'O=C(N1CCCC)C2=C(N=C(N2)C3CCCC3)N(C1=O)CCCNC(C(N)N)C4=CC=C(N)C=C4', #ligand_30\n",
    "    'O=C(N1CCCC)C2=C(N=C(N2)C3CCCC3)N(C1=O)CCCNC(C(N)N)C4=CC=C(S)C=C4', #ligand_31\n",
    "    'O=C(N1CCCC2=CC=CC=C2)C3=C(N=C(N3)C4CCCC4)N(C1=O)CCCNC(C(N)N)C5=CC=CC=C5', #ligand_32\n",
    "    'O=C(N1CCCC)C2=C(N=C(N2)C3CCCC3)N(C1=O)CCCNC4(CCCCC4)C(N)N', #ligand_33\n",
    "    'O=C(N1CCCC)C2=C(N=C(N2)C3CCCC3)N(C1=O)CCCNC4(CCNCC4)C(N)N', #ligand_34\n",
    "    'O=C(N1CCCC)C2=C(N=C(N2)C3CCCC3)N(C1=O)CCCNC(C4=CC=C(C)C=C4)C(N)N', #ligand_35\n",
    "    'CCCN1C(C2=C(N=C(N2)C3CCCC3)N(C1=O)CCCNC=O)=O', #ligand_36\n",
    "    'CCCN1C(C2=C(N=C(N2)C3CCCCC3)N(C1=O)CCCNC=O)=O', #ligand_38\n",
    "    'CCCN1C(C2=C(N=C(N2)C3CCCC3)N(C1=O)CCCCCC)=O', #ligand_39\n",
    "    'CCCN1C(C2=C(N=C(N2)C3CCCCC3)N(C1=O)CCCCCC)=O', #ligand_40\n",
    "    'CCCN1C(C2=C(N=C(N2)C3CCCCC3)N(C1=O)CCCCC)=O', #ligand_41\n",
    "    'CCCN1C(C2=C(N=C(N2)C3CCCCC3)N(C1=O)CCCC)=O', #ligand_42\n",
    "    'CCCN1C(C2=C(N=C(N2)C3CCCCC3)N(C1=O)CCC)=O', #ligand_43\n",
    "    'O=C1N(CCCCCC)C(N=C(N2)C3CCCCC3)=C2C(N1CCCC)=O', #ligand_44\n",
    "    'CCCN1C(C2=C(N=C(N2)O)N(C1=O)CCCCCC)=O', #ligand_45\n",
    "    'O=C1N(CCCCCC)C(N=C(N2)C3CCCC3)=C2C(N1CCCC)=O', #ligand_46\n",
    "    'CCCN1C(C2=C(N=C(N2)C3CCC(O)CC3)N(C1=O)CCCCCC)=O', #ligand_47\n",
    "    'CCCN1C(C2=C(N(CCCNC(C)=O)C1=O)N=C(C3CCCCC3)N2)=O', #ligand_48\n",
    "    'CCCN1C(C2=C(N(CCCNC(C)=O)C1=O)N=C(C3CCCC3)N2)=O', #ligand_49\n",
    "    'O=C1N(CCCNC(C2=CC=C(S(=O)=O)C=C2)=O)C(N=C(C3CCCC3)N4)=C4C(N1CCCC)=O', #ligand_50\n",
    "    'CCCN1C(C2=C(N(CCCNC(C3=CC=C(S(=O)=O)C=C3)=O)C1=O)N=C(C4CCCC4)N2)=O', #ligand_51\n",
    "    'CCCN1C(C2=C(N(CCCNC(C3=CC=C(S)C=C3)=O)C1=O)N=C(C4CCCC4)N2)=O', #ligand_52\n",
    "    'CCCN1C(C2=C(N(CCCNC(C3=CC=C(S)C=C3)=O)C1=O)N=C(C4CC(CC4)=O)N2)=O', #ligand_53\n",
    "    'CCCN1C(C2=C(N(CCCNC(C3=CC=CC=C3)=O)C1=O)N=C(C4CC(S)CC4)N2)=O', #ligand_54\n",
    "    'CCCN1C(C2=C(N(CCCNC(C3CCCCC3)=O)C1=O)N=C(C4CCCC4)N2)=O', #ligand_55\n",
    "    'CCCN1C(C2=C(N(CCCNC(C3CCC(N)CC3)=O)C1=O)N=C(C4CCCC4)N2)=O', #ligand_56\n",
    "    'CCCN1C(C2=C(N(CCCNC(C3CCC(OC)CC3)=O)C1=O)N=C(C4CCCC4)N2)=O', #ligand_57\n",
    "    'O=C1N(CCCNC(C2CCCCC2)=O)C(N=C(C3CCCC3)N4)=C4C(N1CCC(C)=O)=O', #ligand_58\n",
    "    'CCCN1C(C2=C(N(C/C=C/NC(C3CCCCC3)=O)C1=O)N=C(C4CCCC4)N2)=O', #ligand_59\n",
    "    'CCCN1C(C2=C(N(C/C=C/NC(C)=O)C1=O)N=C(C3CCCC3)N2)=O', #ligand_60\n",
    "    'CCCN1C(C2=C(N(C/C=C/NC(C3=CC=CC=C3)=O)C1=O)N=C(C4CCCC4)N2)=O', #ligand_61\n",
    "    'CCCN1C(C2=C(N(C/C=C/NC(C3=CC=C(S)C=C3)=O)C1=O)N=C(C4CCCC4)N2)=O', #ligand_62\n",
    "    'CCCN1C(C2=C(N(C/C=C/NC(C3=CC=C(S(=O)(F)=O)C=C3)=O)C1=O)N=C(C4CCCC4)N2)=O', #ligand_63\n",
    "    'CCCN1C(C2=C(N(C(N)/C=C/NC(C3=CC=C(S(=O)(F)=O)C=C3)=O)C1=O)N=C(C4CCCC4)N2)=O', #ligand_64\n",
    "    'CCCN1C(C2=C(N(C(O)/C=C/NC(C3=CC=C(S(=O)(F)=O)C=C3)=O)C1=O)N=C(C4CCCC4)N2)=O', #ligand_65\n",
    "    'CCCN1C(C2=C(N(C/C=C/NC(C3=CC=C(S(=O)(F)=O)C=C3)=O)C1=O)N=C(C4CCC=C4)N2)=O', #ligand_66\n",
    "    'C=CCN1C(C2=C(N(C/C=C/NC(C3=CC=C(S(=O)(F)=O)C=C3)=O)C1=O)N=C(C4CCCC4)N2)=O', #ligand_67\n",
    "    'CCCN1C(C2=C(N(C/C=C/NC(C3=CC=C(N)C=C3)=O)C1=O)N=C(C4CCCC4)N2)=O', #ligand_68\n",
    "    'O=C1N(C/C=C/NC(C2=CC=C(S(=O)(F)=O)C=C2)=O)C(N=C(C3CCCC3)N4)=C4C(N1CCC5CCCC5)=O', #ligand_69\n",
    "    'O=C1N(C/C=C/NC(C2=CC=C(S(=O)(F)=O)C=C2)=O)C(N=C(C3CCCC3)N4)=C4C(N1C5CCCC5)=O', #ligand_70\n",
    "    'CCCN1C(C2=C(N(C/C=C/NC(CCC)=O)C1=O)N=C(C3CCCC3)N2)=O', #ligand_71\n",
    "    'CCCN1C(C2=C(N(CC(CC3CCCC3)CNC(C4=CC=C(S(=O)(F)=O)C=C4)=O)C1=O)N=C(C5CCCCC5)N2)=O', #ligand_72\n",
    "    \n",
    "    \n",
    "]\n",
    "\n",
    "fps = []\n",
    "\n",
    "for smiles in test_smiles: \n",
    "    fp = smiles_to_fp(smiles,'morgan3')\n",
    "    fps.append(fp)\n",
    "\n",
    "predictions = trained_model.predict(fps)\n",
    "print(\"SMILES, PREDICTION\")\n",
    "for i, prediction in enumerate(predictions):\n",
    "    print('{},{:.2f}'.format(test_smiles[i], prediction))"
   ]
  },
  {
   "cell_type": "markdown",
   "metadata": {},
   "source": [
    "You can paste a smiles string of a designed molecule in here yourself. It's probably a good idea to start close to molecules that are already in the training set (check ChEMBL for inspiration). Of course you can also go crazy and design what you like, but bear in mind that Machine Learning has that pesky applicability domain so the results you obtain might not be that accurate.\n",
    "\n",
    "You can generate SMILES strings for instance using the drawing function in molview (https://molview.org/). "
   ]
  },
  {
   "cell_type": "markdown",
   "metadata": {},
   "source": [
    "## Discussion\n",
    "\n",
    "* Which model performed best on our data set and why?\n",
    "    * All three models perform (very) well on our dataset. The best models are the random forest and support vector machine models which showed a mean AUC of about 90%. Our neural network showed slightly lower results. \n",
    "    * There might be several reasons that random forest and support vector machine models performed best. Our dataset might be easily separable in active/inactive with some simple tree-like decisions or with the radial basis function, respectively. Thus, there is not such a complex pattern in the fingerprints to do this classification.\n",
    "    * A cause for the slightly poorer performance of the ANN could be that there was simply too few data to train the model on.\n",
    "    * Additionally, it is always advisable to have another external validation set for model evaluation.  \n",
    "* Was MACCS the right choice?\n",
    "    * Obviously, MACCS was good to start training and validating models to see if a classification is possible. \n",
    "    * However, MACCS keys are rather short (166 bit) compared to others (2048 bit), as for example Morgan fingerprint. As shown in the last simulation, having longer fingerprint helps the learning process. All tested models performed slightly better using Morgan fingerprints (see mean AUC increase).\n",
    "\n",
    "    \n",
    "### Where can we go from here?\n",
    "\n",
    "* We successfully trained several models. \n",
    "* The next step could be to use these models to do a classification with an unknown screening dataset to predict novel potential EGFR inhibitors.\n",
    "* An example for a large screening data set is e.g. [MolPort](https://www.molport.com/shop/database-download) with over 7 million compounds.\n",
    "* Our models could be used to rank the MolPort compounds and then further study those with the highest predicted probability of being active.\n",
    "* For such an application, see also the [TDT Tutorial](https://github.com/sriniker/TDT-tutorial-2014) developed by S. Riniker and G. Landrum, where they trained a fusion model to screen [eMolecules](https://www.emolecules.com/) for new anti-malaria drugs."
   ]
  },
  {
   "cell_type": "markdown",
   "metadata": {},
   "source": [
    "## Quiz\n",
    "\n",
    "* How can you apply ML for virtual screening?\n",
    "* Which machine learning algorithms do you know?\n",
    "* What are necessary prerequisites to successfully apply ML?"
   ]
  }
 ],
 "metadata": {
  "kernelspec": {
   "display_name": "Python 3 (ipykernel)",
   "language": "python",
   "name": "python3"
  },
  "language_info": {
   "codemirror_mode": {
    "name": "ipython",
    "version": 3
   },
   "file_extension": ".py",
   "mimetype": "text/x-python",
   "name": "python",
   "nbconvert_exporter": "python",
   "pygments_lexer": "ipython3",
   "version": "3.9.13"
  },
  "toc-autonumbering": true,
  "widgets": {
   "application/vnd.jupyter.widget-state+json": {
    "state": {},
    "version_major": 2,
    "version_minor": 0
   }
  }
 },
 "nbformat": 4,
 "nbformat_minor": 4
}
