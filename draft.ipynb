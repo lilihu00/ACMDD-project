{
 "cells": [
  {
   "cell_type": "markdown",
   "metadata": {},
   "source": [
    "\n",
    "# Designing a High Affinity Ligand for the A<sub>1</sub> Adenosine Receptor\n",
    "\n",
    "Students: Zeynep Tufan (s1773453), Lili Hu (s2263424), Katie Lynch (s3863956)\n",
    "\n",
    "Course: Advanced Computational Methods in Drug Discovery: AI and Physics Based Simulations\n",
    "\n",
    "### Introduction\n",
    "The human body holds a complex network of various signaling receptors that are involved in a wide range of physiological processes. Amongst them, the adenosine A<sub>1</sub> receptor (A<sub>1</sub>R), a G-protein coupled receptor (GPCR) family, is a pivotal mediator. This receptor is predominantly expressed in the brain, heart, and vasculature, and plays a crucial role in modulating neurotransmission, neuronal activity, and cardiovascular homeostasis.<sup>1</sup> Considering its involvement in these processes, A<sub>1</sub>R has shown to be involved in numerous disorders, including neurological and cardiovascular conditions.<sup>2,3</sup> For instance, chronic agonistic activation of A<sub>1</sub>R has been linked with A1R-dependent accumulation of a-synuclein, which on long-term promotes neurodegeneration.<sup>4,5</sup> Consequently, A<sub>1</sub>R has been suggested as a potential target in neurodegenerative disorders such as Parkinson’s disease.<sup>6</sup> Furthermore, the implications of A<sub>1</sub>R overexpression also extend to cardiovascular conditions like ischemic strokes. Activation of the A<sub>1</sub> receptor during ischemic events has shown to aggravate neuronal damage and lead to increased infarct size.<sup>7</sup> Thus, the use of A<sub>1</sub> receptor antagonists may be a potential treatment option to alleviate the detrimental effects of an ischemic stroke.\n",
    "\n",
    "As previously mentioned, the A<sub>1</sub>R is a G-protein coupled receptor (GPCR) consisting of a single polypeptide chain that transverses the membrane from the extracellular side beginning at the N-terminus to form seven transmembrane helices (TMs).<sup>8</sup> It is made up of 326 amino acids and has an approximate mass of 36.5 kDa.<sup>9</sup> Besides the A<sub>1</sub>R, there are 3 other subtypes of adenosine receptor, namely, A<sub>2</sub>A, A<sub>2</sub>B and A<sub>3</sub>. All of these adenosine receptor subtypes are nonselectively activated by the endogenous ligand adenosine.<sup>10</sup> The A<sub>1</sub> receptor preferentially couples to the G<sub>i</sub> protein to inhibit adenylate cyclase after activation, and consequently the production of cyclic AMP (cAMP).<sup>2</sup>\n",
    "\n",
    "Despite the A<sub>1</sub>R playing a pivotal role in cardiac, renal and neuronal processes, it remains poorly targeted by drugs. There are very few A<sub>1</sub>R drugs that have successfully progressed through clinical trials and currently no A<sub>1</sub>R drugs actually on the market.<sup>9</sup> The downfall of A<sub>1</sub>R drugs is often considered to be a consequence of widespread distribution of the receptor which can cause a lot of off-target effects. Some A<sub>1</sub>R ligands that have been developed are n6-cyclopentyl-adenosine (CPA), naxifylline and rolofylline. CPA is an A<sub>1</sub>R agonist that was developed as an anti-nociceptive agent, however it has a lot of cardiovascular side effects.<sup>11</sup> Naxifylline was created for the treatment of congestive heart failure, but it has side effects including headache, irregular heart beat, irregular breathing and difficulty sleeping.<sup>8</sup> Rolofylline is a diuretic for acute heart failure, but causes off-target strokes.<sup>9</sup> Seeing as none of the A<sub>1</sub>R drugs are on the market, there are no ATC codes from which to gather more information about the drugs.\n",
    "\n",
    "In conclusion, the Adenosine 1 receptor is intricately linked to neurological and cardiovascular conditions, including Parkinson's disease and ischemic stroke. The use of A<sub>1</sub> receptor antagonists has shown promise in managing these conditions, but off-target effects often limit entrance into the market. In order to identify novel therapeutic options, investigating new possible antagonists using machine learning and docking simulations has garnered considerable interest. They facilitate the screening of large libraries of compounds and aid in identifying potential ligands that can interact with the A<sub>1</sub> receptor with high affinity, ultimately leading to the development of more effective therapeutic interventions. For this reason, both of these computational methods will be utilized, aiming to design novel ligands that can target the A<sub>1</sub>R with a higher affinity than the co-crystallized ligand DU172 (DU1).<sup>9</sup> In short, machine learning and molecular docking will be employed to predict the affinity of DU1 towards A<sub>1</sub>R. To this end, two different docking software will be used, namely, Autodock Vina and ICM pro of Molsoft. After the prediction of the docking scores, binding poses and the binding site of DU1 and ligand candidates will be evaluated.\n",
    "\n",
    "### Related proteins (off-targets), based on sequence\n",
    "\n",
    "First, the A<sub>1</sub>R receptor sequence was acquired through UniProt. Using this sequence, similar targets were found. This was done to evaluate through which receptors off-target effects could potentially be induced. The A<sub>1</sub>R expressed in humans has an accession number of P30542, and an PDB ID of 5UEN. Based on the sequence of the A<sub>1</sub>R receptor (Target 0), a similar receptor was found through a BLAST run on UniProt. This was Target 1 with an accession number Q5RF57. Another BLAST run was done based on the sequence of Target 1 generating Target 2. An overview of these three targets can be found in *Table 1*.\n",
    "\n",
    "When comparing the similarity of the targets, the A<sub>1</sub>R of the sumatran orangutan (Target 1) was more similar to Target 0, the human A<sub>1</sub>R, than the human A<sub>3</sub>R (Target 2). Target 0 and the sumatran orangutan Target 1 were 99.1% similar while the human Target 0 and Target 2 were only 47.8% similar. This was expected as the same protein in different species was compared against each other, and two different proteins in the same species. Therefore, it is no surprise that the same proteins have a high similarity score, even if they are from two different species.\n",
    "\n",
    "**Table 1** An overview of A<sub>1</sub>R and potential off-targets\n",
    "\n",
    "|        |Target 0|Target 1|Target 2|\n",
    "|--------|:---|:---|:---|\n",
    "|**Protein**|Adenosine receptor A<sub>1</sub>|Adenosine receptor A<sub>1</sub>|Adenosine receptor A<sub>3</sub>|\n",
    "|**Accession number**|P30542|Q5RF57|P0DMS8|\n",
    "|**Seq. length**|326 aa|326 aa|318 aa|\n",
    "|**Identity**|-|99.1%|47.8%|\n",
    "|**Species**|Human|Pongo abelli|Human|\n",
    "|**Status**|UniProtKB reviewed|UniProtKB reviewed|UniProtKB reviewed|\n",
    "|**Protein existence**|Evidence at protein level|Evidence at protein level|Evidence at protein level|\n",
    "|**Mass**|36.5 kDa|36.5 kDa|36.2 kDa|\n",
    "\n",
    "\n",
    "Next, the three proteins were aligned on their similarity, and the following physical properties: hydrophobicity, negativity, positivity, and aromaticity, as shown in *Figure 1*. The Sumatran orangutan A<sub>1</sub>R is more similar to the human A<sub>1</sub>R in the following fields: similarity, hydrophobicity, negativity, positivity and aromaticity. As the alignment shows, the A1R sumatran orangutan and human proteins have the same number of amino acids in their structure, while the human A<sub>3</sub>R has only 318 amino acids which contributes to its significant difference from both of the A<sub>1</sub>Rs.\n",
    "\n",
    "\n",
    "![Image info](img/align_targets_uniprot.png)\n",
    "**Figure 1** Alignment of targets. *Target 0, 1, and 2 aligned on their hydrophobicity, and the following physical properties: hydrophobicity, negativity, positivity, and aromaticity*.\n",
    "\n",
    "### Related proteins (off-targets), based on structure\n",
    "\n",
    "Besides sequence-based off-target search, a structure-based similarity search was performed through the RCSB Protein Data Bank. This was done based on the tertiary structure of the human A<sub>1</sub>R crystal structure. The most similar protein, the human serotonin 2A receptor (PDB ID: 7WC4), was then selected for alignment with the human A<sub>1</sub>R (PDB ID: 5UEN) using the iCn3D Structure Viewer. Alignment of the two protein complexes was done followed by realignment of the A-chains based on sequence alignment (Figure 2). The realignment root mean square deviations (RMSD) were 2.916 Å and 4.576 Å, respectively, suggesting general similarity between the two structures.\n",
    "\n",
    "![Image info](img/alignment_ncbi.png)\n",
    "\n",
    "**Figure 2** Alignment of the target protein and the structurally-similar off-target. *Alignment of protein complexes 5UEN and 7WC4, corresponding to the human A<sub>1</sub> and human serotonin 2AR respecively, and re-alignment of the A-chains based on sequence alignment. The realignment RMSDs are 2.916 Å and 4.576 Å, respecively.*\n",
    "\n"
   ]
  },
  {
   "cell_type": "markdown",
   "metadata": {},
   "source": [
    "Next, you need to specify the PDB code of your protein. We have used 5uen as an example. If you execute the code block below, you will see a viewer with a 3D structure of the protein."
   ]
  },
  {
   "cell_type": "code",
   "execution_count": 4,
   "metadata": {
    "scrolled": true
   },
   "outputs": [
    {
     "data": {
      "application/vnd.jupyter.widget-view+json": {
       "model_id": "f8417ca418534d578a38253c512defde",
       "version_major": 2,
       "version_minor": 0
      },
      "text/plain": [
       "NGLWidget()"
      ]
     },
     "metadata": {},
     "output_type": "display_data"
    }
   ],
   "source": [
    "TARGET_PDB_ID = \"5UEN\"\n",
    "view = nglview.show_pdbid(TARGET_PDB_ID)\n",
    "view.center()\n",
    "view"
   ]
  },
  {
   "cell_type": "markdown",
   "metadata": {},
   "source": [
    "It  is nice to have the overview of the structure, but since we are interested in designing new drugs, it makes more sense to have a closer look at the co-crystallized ligand. For this, we need to know the residue name of the ligand. This is a three later amino acid code that you can retrieve from the RCSB. In this case, the amino acid code is DU1. First we zoom in on the ligand."
   ]
  },
  {
   "cell_type": "code",
   "execution_count": 5,
   "metadata": {},
   "outputs": [
    {
     "data": {
      "application/vnd.jupyter.widget-view+json": {
       "model_id": "f8417ca418534d578a38253c512defde",
       "version_major": 2,
       "version_minor": 0
      },
      "text/plain": [
       "NGLWidget(n_components=1)"
      ]
     },
     "metadata": {},
     "output_type": "display_data"
    }
   ],
   "source": [
    "LIGAND_CODE = \"DU1\"\n",
    "\n",
    "view.center(LIGAND_CODE)\n",
    "view"
   ]
  },
  {
   "cell_type": "markdown",
   "metadata": {},
   "source": [
    "Next, let's show the residues that are within 5 Angstrom of the ligand"
   ]
  },
  {
   "cell_type": "code",
   "execution_count": 6,
   "metadata": {},
   "outputs": [
    {
     "data": {
      "application/vnd.jupyter.widget-view+json": {
       "model_id": "f8417ca418534d578a38253c512defde",
       "version_major": 2,
       "version_minor": 0
      },
      "text/plain": [
       "NGLWidget(n_components=1)"
      ]
     },
     "metadata": {},
     "output_type": "display_data"
    }
   ],
   "source": [
    "viewer.show_residues_around(view, selection=LIGAND_CODE)\n",
    "view"
   ]
  },
  {
   "cell_type": "markdown",
   "metadata": {},
   "source": [
    "Have a look at the residues near the ligand, can you observe any important interactions? Describe in your report which interactions you observe, and what type of interactions they are.\n",
    "\n",
    "Note that we do not see any hydrogen atoms, do you know why?\n",
    "\n",
    "In the next stage, we will add the hydrogens and have another look at the structure. We will split the protein and ligand and save them seperately. For this, we use biopython. https://biopython.org/docs/1.75/api/Bio.html\n",
    "\n",
    "First download the coordinates from RCSB."
   ]
  },
  {
   "cell_type": "code",
   "execution_count": 7,
   "metadata": {
    "scrolled": false
   },
   "outputs": [
    {
     "name": "stdout",
     "output_type": "stream",
     "text": [
      "Structure exists: '5IU4/5iu4.cif' \n"
     ]
    },
    {
     "name": "stderr",
     "output_type": "stream",
     "text": [
      "WARNING: The default download format has changed from PDB to PDBx/mmCif\n"
     ]
    },
    {
     "data": {
      "text/plain": [
       "'5IU4/5iu4.cif'"
      ]
     },
     "execution_count": 7,
     "metadata": {},
     "output_type": "execute_result"
    }
   ],
   "source": [
    "pdbl = PDBList()\n",
    "pdbl.retrieve_pdb_file(TARGET_PDB_ID, pdir=TARGET_PDB_ID)"
   ]
  },
  {
   "cell_type": "markdown",
   "metadata": {},
   "source": [
    "Next, we generate a BioPython object from the coordinates, which we can use for various tasks."
   ]
  },
  {
   "cell_type": "code",
   "execution_count": 8,
   "metadata": {},
   "outputs": [],
   "source": [
    "parser = MMCIFParser()\n",
    "structure = parser.get_structure(\"TARGETPROT\",'{}/{}.cif'.format(TARGET_PDB_ID,TARGET_PDB_ID.lower()))"
   ]
  },
  {
   "cell_type": "markdown",
   "metadata": {},
   "source": [
    "Now we save the ligand"
   ]
  },
  {
   "cell_type": "code",
   "execution_count": 9,
   "metadata": {},
   "outputs": [],
   "source": [
    "class ResSelect(Select):\n",
    "    def accept_residue(self, residue):\n",
    "        if residue.get_resname() == LIGAND_CODE:\n",
    "            return 1\n",
    "        else:\n",
    "            return 0\n",
    "\n",
    "class NonHetSelect(Select):\n",
    "    def accept_residue(self, residue):\n",
    "        return 1 if residue.id[0] == \" \" else 0\n",
    "\n",
    "io = PDBIO()\n",
    "io.set_structure(structure)\n",
    "io.save(\"ligand-{}.pdb\".format(LIGAND_CODE), ResSelect())\n",
    "io.save(\"protein-{}.pdb\".format(TARGET_PDB_ID), NonHetSelect())"
   ]
  },
  {
   "cell_type": "markdown",
   "metadata": {},
   "source": [
    "Now that we have seperated ligands and protein, we can start adding hydrogens to the protein, we will use LePro for this, which is part of the LeDock program (https://en.wikipedia.org/wiki/LeDock).\n",
    "\n",
    "21. Prepare the protein:"
   ]
  },
  {
   "cell_type": "code",
   "execution_count": 10,
   "metadata": {
    "scrolled": false
   },
   "outputs": [
    {
     "data": {
      "text/plain": [
       "'5IU4_prepped.pdb'"
      ]
     },
     "execution_count": 10,
     "metadata": {},
     "output_type": "execute_result"
    }
   ],
   "source": [
    "command = '../CBR_teaching/bin/lepro protein-{}.pdb'.format(TARGET_PDB_ID)\n",
    "os.system(command)\n",
    "shutil.move('pro.pdb','{}_prepped.pdb'.format(TARGET_PDB_ID))"
   ]
  },
  {
   "cell_type": "code",
   "execution_count": 11,
   "metadata": {},
   "outputs": [],
   "source": [
    "# combine protein and ligand files\n",
    "filenames = [\n",
    "'{}_prepped.pdb'.format(TARGET_PDB_ID),\n",
    "\"ligand-{}.pdb\".format(LIGAND_CODE)\n",
    "]\n",
    "with open('{}-complex.pdb'.format(TARGET_PDB_ID), 'w') as outfile:\n",
    "    for fname in filenames:\n",
    "        with open(fname) as infile:\n",
    "            for line in infile:\n",
    "                if not \"END\" in line:\n",
    "                    outfile.write(line)"
   ]
  },
  {
   "cell_type": "code",
   "execution_count": 12,
   "metadata": {},
   "outputs": [
    {
     "data": {
      "application/vnd.jupyter.widget-view+json": {
       "model_id": "2966d2020114423a880bfa767da8eeec",
       "version_major": 2,
       "version_minor": 0
      },
      "text/plain": [
       "NGLWidget()"
      ]
     },
     "metadata": {},
     "output_type": "display_data"
    }
   ],
   "source": [
    "with open('{}-complex.pdb'.format(TARGET_PDB_ID)) as f:\n",
    "    view = nglview.show_file(f, ext=\"pdb\")\n",
    "    \n",
    "view.center(LIGAND_CODE)\n",
    "viewer.show_residues_around(view, selection=LIGAND_CODE)\n",
    "view"
   ]
  },
  {
   "cell_type": "markdown",
   "metadata": {},
   "source": [
    "Let's have a look again at the protein"
   ]
  },
  {
   "cell_type": "markdown",
   "metadata": {},
   "source": [
    "You can move around the structure with the mouse. Scrolling will zoom in/out, with the left mouse button you can rotate the structure. If you click the scrolling wheel you can move around the structure (sliding).\n",
    "\n",
    "23. Now, we will repeat the procedure for the most similar target that you identified (the highest scoring hit from the PDB):"
   ]
  },
  {
   "cell_type": "code",
   "execution_count": 13,
   "metadata": {},
   "outputs": [
    {
     "name": "stderr",
     "output_type": "stream",
     "text": [
      "WARNING: The default download format has changed from PDB to PDBx/mmCif\n"
     ]
    },
    {
     "name": "stdout",
     "output_type": "stream",
     "text": [
      "Structure exists: '5uen/5uen.cif' \n"
     ]
    },
    {
     "name": "stderr",
     "output_type": "stream",
     "text": [
      "/opt/conda/lib/python3.9/site-packages/Bio/PDB/StructureBuilder.py:89: PDBConstructionWarning: WARNING: Chain A is discontinuous at line 6061.\n",
      "  warnings.warn(\n",
      "/opt/conda/lib/python3.9/site-packages/Bio/PDB/StructureBuilder.py:89: PDBConstructionWarning: WARNING: Chain B is discontinuous at line 6162.\n",
      "  warnings.warn(\n"
     ]
    }
   ],
   "source": [
    "OFF_TARGET_PDB_ID = \"7wc4\"\n",
    "OFF_TARGET_LIGAND = \"DU1\"\n",
    "\n",
    "pdbl = PDBList()\n",
    "pdbl.retrieve_pdb_file(OFF_TARGET_PDB_ID, pdir=OFF_TARGET_PDB_ID)\n",
    "\n",
    "parser = MMCIFParser()\n",
    "structure = parser.get_structure(\"TARGETPROT\",'{}/{}.cif'.format(OFF_TARGET_PDB_ID,OFF_TARGET_PDB_ID.lower()))\n",
    "\n",
    "class ResSelect(Select):\n",
    "    def accept_residue(self, residue):\n",
    "        if residue.get_resname() == OFF_TARGET_LIGAND:\n",
    "            return 1\n",
    "        else:\n",
    "            return 0\n",
    "\n",
    "io = PDBIO()\n",
    "io.set_structure(structure)\n",
    "io.save(\"ligand-{}.pdb\".format(OFF_TARGET_LIGAND), ResSelect())\n",
    "io.save(\"protein-{}.pdb\".format(OFF_TARGET_PDB_ID), NonHetSelect())"
   ]
  },
  {
   "cell_type": "code",
   "execution_count": 14,
   "metadata": {},
   "outputs": [
    {
     "data": {
      "text/plain": [
       "'5uen_prepped.pdb'"
      ]
     },
     "execution_count": 14,
     "metadata": {},
     "output_type": "execute_result"
    }
   ],
   "source": [
    "command = '../CBR_teaching/bin/lepro protein-{}.pdb'.format(OFF_TARGET_PDB_ID)\n",
    "os.system(command)\n",
    "shutil.move('pro.pdb','{}_prepped.pdb'.format(OFF_TARGET_PDB_ID))"
   ]
  },
  {
   "cell_type": "code",
   "execution_count": 15,
   "metadata": {},
   "outputs": [],
   "source": [
    "# combine protein and ligand files\n",
    "filenames = [\n",
    "'{}_prepped.pdb'.format(OFF_TARGET_PDB_ID),\n",
    "\"ligand-{}.pdb\".format(OFF_TARGET_LIGAND)\n",
    "]\n",
    "with open('{}-complex.pdb'.format(OFF_TARGET_PDB_ID), 'w') as outfile:\n",
    "    for fname in filenames:\n",
    "        with open(fname) as infile:\n",
    "            for line in infile:\n",
    "                if not \"END\" in line:\n",
    "                    outfile.write(line)"
   ]
  },
  {
   "cell_type": "markdown",
   "metadata": {},
   "source": [
    "24. Prepare the protein"
   ]
  },
  {
   "cell_type": "code",
   "execution_count": 16,
   "metadata": {},
   "outputs": [
    {
     "data": {
      "application/vnd.jupyter.widget-view+json": {
       "model_id": "98b5c613558a45cdac47777aaf5e1ee1",
       "version_major": 2,
       "version_minor": 0
      },
      "text/plain": [
       "NGLWidget()"
      ]
     },
     "metadata": {},
     "output_type": "display_data"
    }
   ],
   "source": [
    "with open('{}-complex.pdb'.format(OFF_TARGET_PDB_ID)) as f:\n",
    "    view = nglview.show_file(f, ext=\"pdb\")\n",
    "    \n",
    "view.center(OFF_TARGET_LIGAND)\n",
    "viewer.show_residues_around(view, selection=OFF_TARGET_LIGAND)\n",
    "view"
   ]
  },
  {
   "cell_type": "markdown",
   "metadata": {},
   "source": [
    "25. Now, let's try to align the structures. First we generate the alignment object"
   ]
  },
  {
   "cell_type": "code",
   "execution_count": 17,
   "metadata": {},
   "outputs": [
    {
     "name": "stdout",
     "output_type": "stream",
     "text": [
      "Alignment(seqA='MKTIIAL----SYIFCLV--F-ADYKDDDDGAPP-IMGSSVYITVELAIAVLAI-L----GNVLVC-WAVWLNS--NLQNV-----TNYFV---VSLAA-ADI-AVGVLA--IPF-AIT-IST--G----FCAACHG-CLFI--ACF-VLV-LTQSSIFSL-L-AIAI-DRYIAI-R--IPLRYNGL--VTG-T-R-AKGIIA--I--CWV-LSFAI--GLTPML-GWNNCGQPK----E------GKNHSQGC-GEGQ-VA--CL-FEDV-VP--MN-YMVYFNFFACVL-V-P-LLLMLGVYLRI----F-LAAR-R-QLADLEDNWETLNDNLKVIEKADNAAQVKDALTKMRAAALDAQKATPPKLEDKSPDSPEMKDFRHGFDILVGQIDDALKLANEGKVKEAQAAAEQLKTTRNAYIQKYLERARSTLQKEVHA---AKSLAI-IVGLF--ALC-WLPLHII-NCF-TF-FCPDCS-HA-PLW--LM-YL-AIV-LSHT--NSVV--NPFI-YAY-RIRE--FRQ-TFR-KIIRS---HVL-RQ-QEP----FKAHHHHHHHHHH-', seqB='-------GPPPS-I----SAFQA--------A--YI-G----I--E----VL-IALVSVPGNVLV-IWAV----KVN-Q--ALRDAT--F-CFIVSL-AVAD-VAVG--ALVIP-LAI-LI--NIGPQTYF----H-TCL--MVAC-PVL-ILTQSSI--LALLAIA-VDRY---LRVKIPLRY---KMV--VTPRRA----AVAIAGCW-ILSF--VVGLTPM-FGWNN-----LSAVERAWAAAG---S---MGE--PV-IKC-EFE--KV-ISM-EYMVYFNFF--V-WVLPPLLLM--V-L-IYLEVFYL---IRKQLADLEDNWETLNDNLKVIEKADNAAQVKDALTKMRAAALDAQKATPPKLEDKSPDSPEMKDFRHGFDILVGQIDDALKLANEGKVKEAQAAAEQLKTTRNAYIQKYLERARSTLQKE---LKIAKSLA-LI--LFLFAL-SWLPLH-ILNC-IT-LFCP--SCH-KP--SIL-TY-IAI-FL--THGNS--AMNP-IVYA-FRI--QKFR-VTF-LK-I--WNDH--FR-CQ-PLEVLF------------Q', score=290.0, start=0, end=573)\n"
     ]
    }
   ],
   "source": [
    "from Bio import pairwise2\n",
    "from Bio.Seq import Seq \n",
    "from Bio.SeqRecord import SeqRecord\n",
    "from Bio.Align import MultipleSeqAlignment\n",
    "\n",
    "# Get the structures\n",
    "PDBCODE_1 = '4eiy' # Name of the first structure\n",
    "PDBCODE_2 = '5uen' # Name of the second structure\n",
    "\n",
    "import requests\n",
    "data = requests.get(f'https://www.ebi.ac.uk/pdbe/api/pdb/entry/molecules/{PDBCODE_1}').json()[PDBCODE_1.lower()]\n",
    "SEQ1 = (data[0]['sequence'])\n",
    "SEQ1 = Seq(SEQ1)\n",
    "\n",
    "data = requests.get(f'https://www.ebi.ac.uk/pdbe/api/pdb/entry/molecules/{PDBCODE_2}').json()[PDBCODE_2.lower()]\n",
    "SEQ2 = (data[0]['sequence'])\n",
    "SEQ2 = Seq(SEQ2)\n",
    "\n",
    "alignments = pairwise2.align.globalxx(SEQ1, SEQ2)\n",
    "\n",
    "for align1, align2, score, begin, end in alignments:\n",
    "    filename = \"alignment.fasta\"\n",
    "    with open(filename, \"w\") as handle:\n",
    "        handle.write(\">SEQ1\\n%s\\n>SEQ2\\n%s\\n\" % (align1, align2))\n",
    "\n",
    "print(alignments[0])"
   ]
  },
  {
   "cell_type": "markdown",
   "metadata": {},
   "source": [
    "You can also align structure using https://www.ncbi.nlm.nih.gov/Structure/icn3d/full.html as you've seen previously.\n",
    "\n",
    "You can also have a look at PLIP, which is a nice interaction profiler as well:\n",
    "https://plip-tool.biotec.tu-dresden.de/plip-web/plip/index\n",
    "\n",
    "Finally, the interaction viewer on rcsb itself is also quite good, just type in your accession code in the search bar, scroll down to the ligand overview and click the ligand interaction box.\n",
    "\n",
    "Toy around a bit with the structures and see if you can get a feeling for the binding site. In particular what kind of interactions seem to be important. Feel free to discuss this with your supervisor as well!\n",
    "\n",
    "Another great way to look at the structure is on the rcsb website itself, where you can go to a 3D viewer of the ligand binding site by clicking on the Ligand interaction button. \n",
    "\n"
   ]
  },
  {
   "cell_type": "markdown",
   "metadata": {},
   "source": [
    "This is the end of the bioinformatics part of the lab, for the report, please add a screenshot of the PLIP viewer. Try to identify key interactions in the binding site, either on the RCSB website or PLIP. Also think already how you might improve the ligand, can you think of additional interactions? The next two days, we will try to optimize the ligand. Tomorrow we will work with QSAR and cheminformatics. The day after we will use docking"
   ]
  },
  {
   "cell_type": "code",
   "execution_count": null,
   "metadata": {},
   "outputs": [],
   "source": []
  }
 ],
 "metadata": {
  "kernelspec": {
   "display_name": "Python 3 (ipykernel)",
   "language": "python",
   "name": "python3"
  },
  "language_info": {
   "codemirror_mode": {
    "name": "ipython",
    "version": 3
   },
   "file_extension": ".py",
   "mimetype": "text/x-python",
   "name": "python",
   "nbconvert_exporter": "python",
   "pygments_lexer": "ipython3",
   "version": "3.9.13"
  }
 },
 "nbformat": 4,
 "nbformat_minor": 4
}
